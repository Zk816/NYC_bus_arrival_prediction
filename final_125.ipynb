{
 "cells": [
  {
   "cell_type": "code",
   "execution_count": 5,
   "id": "4fa697e1-b73b-4b74-8346-e455d7b0a5eb",
   "metadata": {},
   "outputs": [
    {
     "name": "stdout",
     "output_type": "stream",
     "text": [
      "./new-york-city-transport-statistics\\mta_1706.csv\n",
      "./new-york-city-transport-statistics\\mta_1708.csv\n",
      "./new-york-city-transport-statistics\\mta_1710.csv\n",
      "./new-york-city-transport-statistics\\mta_1712.csv\n"
     ]
    }
   ],
   "source": [
    "import numpy as np \n",
    "import pandas as pd \n",
    "\n",
    "import os\n",
    "for dirname, _, filenames in os.walk('./new-york-city-transport-statistics'):\n",
    "    for filename in filenames:\n",
    "        print(os.path.join(dirname, filename))"
   ]
  },
  {
   "cell_type": "code",
   "execution_count": 13,
   "id": "d3c9a41f-3b7f-4833-ad37-f8db6644f4ca",
   "metadata": {},
   "outputs": [
    {
     "name": "stdout",
     "output_type": "stream",
     "text": [
      "Loaded ./new-york-city-transport-statistics\\mta_1706.csv with 6730436 rows and 17 columns\n",
      "Loaded ./new-york-city-transport-statistics\\mta_1708.csv with 6463520 rows and 17 columns\n",
      "Loaded ./new-york-city-transport-statistics\\mta_1710.csv with 6865376 rows and 17 columns\n",
      "Loaded ./new-york-city-transport-statistics\\mta_1712.csv with 6461384 rows and 17 columns\n",
      "full.csv'.\n"
     ]
    }
   ],
   "source": [
    "import pandas as pd\n",
    "import os\n",
    "\n",
    "folder_path = './new-york-city-transport-statistics'\n",
    "csv_files = [os.path.join(folder_path, filename) for filename in os.listdir(folder_path) if filename.endswith('.csv')]\n",
    "\n",
    "df_list = []\n",
    "for file in csv_files:\n",
    "    try:\n",
    "        df = pd.read_csv(file, on_bad_lines='skip', low_memory=False)  \n",
    "        df_list.append(df)\n",
    "        print(f\"Loaded {file} with {df.shape[0]} rows and {df.shape[1]} columns\")\n",
    "    except Exception as e:\n",
    "        print(f\"Error reading {file}: {e}\")\n",
    "\n",
    "merged_df = pd.concat(df_list, ignore_index=True)\n",
    "\n",
    "merged_df.to_csv('full.csv', index=False)\n",
    "print(\"full.csv'.\")\n"
   ]
  },
  {
   "cell_type": "code",
   "execution_count": 6,
   "id": "793d7e1f-665c-4447-9b7d-a913e0507859",
   "metadata": {},
   "outputs": [],
   "source": [
    "import numpy as np \n",
    "import pandas as pd \n",
    "\n",
    "df = pd.read_csv('full.csv')"
   ]
  },
  {
   "cell_type": "code",
   "execution_count": 8,
   "id": "8bbbfb5f-2e57-4a14-b45e-ef9187fa02c6",
   "metadata": {},
   "outputs": [],
   "source": [
    "columns_needed = [\n",
    "    \"RecordedAtTime\", \"DirectionRef\", \"PublishedLineName\", \"DestinationName\",\n",
    "    \"NextStopPointName\", \"DistanceFromStop\", \"ExpectedArrivalTime\", \"ScheduledArrivalTime\"\n",
    "]\n",
    "\n",
    "df = df[df[\"ArrivalProximityText\"] == \"at stop\"]\n",
    "\n",
    "df = df[columns_needed]"
   ]
  },
  {
   "cell_type": "code",
   "execution_count": 9,
   "id": "a9abba97-9837-4bfc-8bf4-d87fa5d78644",
   "metadata": {},
   "outputs": [
    {
     "data": {
      "text/html": [
       "<div>\n",
       "<style scoped>\n",
       "    .dataframe tbody tr th:only-of-type {\n",
       "        vertical-align: middle;\n",
       "    }\n",
       "\n",
       "    .dataframe tbody tr th {\n",
       "        vertical-align: top;\n",
       "    }\n",
       "\n",
       "    .dataframe thead th {\n",
       "        text-align: right;\n",
       "    }\n",
       "</style>\n",
       "<table border=\"1\" class=\"dataframe\">\n",
       "  <thead>\n",
       "    <tr style=\"text-align: right;\">\n",
       "      <th></th>\n",
       "      <th>RecordedAtTime</th>\n",
       "      <th>DirectionRef</th>\n",
       "      <th>PublishedLineName</th>\n",
       "      <th>DestinationName</th>\n",
       "      <th>NextStopPointName</th>\n",
       "      <th>DistanceFromStop</th>\n",
       "      <th>ExpectedArrivalTime</th>\n",
       "      <th>ScheduledArrivalTime</th>\n",
       "    </tr>\n",
       "  </thead>\n",
       "  <tbody>\n",
       "    <tr>\n",
       "      <th>2</th>\n",
       "      <td>2017-06-01 00:03:49</td>\n",
       "      <td>0.0</td>\n",
       "      <td>Bx10</td>\n",
       "      <td>RIVERDALE 263 ST</td>\n",
       "      <td>HENRY HUDSON PKY E/W 235 ST</td>\n",
       "      <td>5.0</td>\n",
       "      <td>2017-06-01 00:03:56</td>\n",
       "      <td>24:00:53</td>\n",
       "    </tr>\n",
       "    <tr>\n",
       "      <th>4</th>\n",
       "      <td>2017-06-01 00:03:22</td>\n",
       "      <td>1.0</td>\n",
       "      <td>Bx1</td>\n",
       "      <td>MOTT HAVEN 136 ST via CONCOURSE</td>\n",
       "      <td>GRAND CONCOURSE/E 196 ST</td>\n",
       "      <td>11.0</td>\n",
       "      <td>2017-06-01 00:03:56</td>\n",
       "      <td>23:59:38</td>\n",
       "    </tr>\n",
       "    <tr>\n",
       "      <th>6</th>\n",
       "      <td>2017-06-01 00:03:24</td>\n",
       "      <td>0.0</td>\n",
       "      <td>B31</td>\n",
       "      <td>MIDWOOD KINGS HWY STA</td>\n",
       "      <td>GERRITSEN AV/GERRITSEN BEACH</td>\n",
       "      <td>0.0</td>\n",
       "      <td>NaN</td>\n",
       "      <td>24:08:00</td>\n",
       "    </tr>\n",
       "    <tr>\n",
       "      <th>11</th>\n",
       "      <td>2017-06-01 00:03:52</td>\n",
       "      <td>1.0</td>\n",
       "      <td>B1</td>\n",
       "      <td>MANHATTAN BEACH KINGSBORO CC</td>\n",
       "      <td>86 ST/BAY PY</td>\n",
       "      <td>22.0</td>\n",
       "      <td>2017-06-01 00:03:57</td>\n",
       "      <td>24:05:55</td>\n",
       "    </tr>\n",
       "    <tr>\n",
       "      <th>20</th>\n",
       "      <td>2017-06-01 00:03:41</td>\n",
       "      <td>0.0</td>\n",
       "      <td>B6</td>\n",
       "      <td>EAST NY NEW LOTS STA</td>\n",
       "      <td>GLENWOOD RD/E 98 ST</td>\n",
       "      <td>4.0</td>\n",
       "      <td>2017-06-01 00:03:56</td>\n",
       "      <td>24:05:00</td>\n",
       "    </tr>\n",
       "  </tbody>\n",
       "</table>\n",
       "</div>"
      ],
      "text/plain": [
       "         RecordedAtTime  DirectionRef PublishedLineName  \\\n",
       "2   2017-06-01 00:03:49           0.0              Bx10   \n",
       "4   2017-06-01 00:03:22           1.0               Bx1   \n",
       "6   2017-06-01 00:03:24           0.0               B31   \n",
       "11  2017-06-01 00:03:52           1.0                B1   \n",
       "20  2017-06-01 00:03:41           0.0                B6   \n",
       "\n",
       "                    DestinationName             NextStopPointName  \\\n",
       "2                  RIVERDALE 263 ST   HENRY HUDSON PKY E/W 235 ST   \n",
       "4   MOTT HAVEN 136 ST via CONCOURSE      GRAND CONCOURSE/E 196 ST   \n",
       "6             MIDWOOD KINGS HWY STA  GERRITSEN AV/GERRITSEN BEACH   \n",
       "11     MANHATTAN BEACH KINGSBORO CC                  86 ST/BAY PY   \n",
       "20             EAST NY NEW LOTS STA           GLENWOOD RD/E 98 ST   \n",
       "\n",
       "    DistanceFromStop  ExpectedArrivalTime ScheduledArrivalTime  \n",
       "2                5.0  2017-06-01 00:03:56             24:00:53  \n",
       "4               11.0  2017-06-01 00:03:56             23:59:38  \n",
       "6                0.0                  NaN             24:08:00  \n",
       "11              22.0  2017-06-01 00:03:57             24:05:55  \n",
       "20               4.0  2017-06-01 00:03:56             24:05:00  "
      ]
     },
     "execution_count": 9,
     "metadata": {},
     "output_type": "execute_result"
    }
   ],
   "source": [
    "df.head()"
   ]
  },
  {
   "cell_type": "code",
   "execution_count": 10,
   "id": "2f9ece65-3094-4b98-9c2c-129cfd06831b",
   "metadata": {},
   "outputs": [],
   "source": [
    "df = df.dropna()"
   ]
  },
  {
   "cell_type": "code",
   "execution_count": 11,
   "id": "4dab5f1d-1d55-4f81-9687-ff6ce3899dc5",
   "metadata": {},
   "outputs": [
    {
     "data": {
      "text/html": [
       "<div>\n",
       "<style scoped>\n",
       "    .dataframe tbody tr th:only-of-type {\n",
       "        vertical-align: middle;\n",
       "    }\n",
       "\n",
       "    .dataframe tbody tr th {\n",
       "        vertical-align: top;\n",
       "    }\n",
       "\n",
       "    .dataframe thead th {\n",
       "        text-align: right;\n",
       "    }\n",
       "</style>\n",
       "<table border=\"1\" class=\"dataframe\">\n",
       "  <thead>\n",
       "    <tr style=\"text-align: right;\">\n",
       "      <th></th>\n",
       "      <th>RecordedAtTime</th>\n",
       "      <th>DirectionRef</th>\n",
       "      <th>PublishedLineName</th>\n",
       "      <th>DestinationName</th>\n",
       "      <th>NextStopPointName</th>\n",
       "      <th>DistanceFromStop</th>\n",
       "      <th>ExpectedArrivalTime</th>\n",
       "      <th>ScheduledArrivalTime</th>\n",
       "    </tr>\n",
       "  </thead>\n",
       "  <tbody>\n",
       "    <tr>\n",
       "      <th>2</th>\n",
       "      <td>2017-06-01 00:03:49</td>\n",
       "      <td>0.0</td>\n",
       "      <td>Bx10</td>\n",
       "      <td>RIVERDALE 263 ST</td>\n",
       "      <td>HENRY HUDSON PKY E/W 235 ST</td>\n",
       "      <td>5.0</td>\n",
       "      <td>2017-06-01 00:03:56</td>\n",
       "      <td>24:00:53</td>\n",
       "    </tr>\n",
       "    <tr>\n",
       "      <th>4</th>\n",
       "      <td>2017-06-01 00:03:22</td>\n",
       "      <td>1.0</td>\n",
       "      <td>Bx1</td>\n",
       "      <td>MOTT HAVEN 136 ST via CONCOURSE</td>\n",
       "      <td>GRAND CONCOURSE/E 196 ST</td>\n",
       "      <td>11.0</td>\n",
       "      <td>2017-06-01 00:03:56</td>\n",
       "      <td>23:59:38</td>\n",
       "    </tr>\n",
       "    <tr>\n",
       "      <th>11</th>\n",
       "      <td>2017-06-01 00:03:52</td>\n",
       "      <td>1.0</td>\n",
       "      <td>B1</td>\n",
       "      <td>MANHATTAN BEACH KINGSBORO CC</td>\n",
       "      <td>86 ST/BAY PY</td>\n",
       "      <td>22.0</td>\n",
       "      <td>2017-06-01 00:03:57</td>\n",
       "      <td>24:05:55</td>\n",
       "    </tr>\n",
       "    <tr>\n",
       "      <th>20</th>\n",
       "      <td>2017-06-01 00:03:41</td>\n",
       "      <td>0.0</td>\n",
       "      <td>B6</td>\n",
       "      <td>EAST NY NEW LOTS STA</td>\n",
       "      <td>GLENWOOD RD/E 98 ST</td>\n",
       "      <td>4.0</td>\n",
       "      <td>2017-06-01 00:03:56</td>\n",
       "      <td>24:05:00</td>\n",
       "    </tr>\n",
       "    <tr>\n",
       "      <th>21</th>\n",
       "      <td>2017-06-01 00:03:36</td>\n",
       "      <td>0.0</td>\n",
       "      <td>B4</td>\n",
       "      <td>SHEEPSHEAD BAY KNAPP ST</td>\n",
       "      <td>SHORE PKY/BROWN ST</td>\n",
       "      <td>25.0</td>\n",
       "      <td>2017-06-01 00:03:56</td>\n",
       "      <td>24:01:49</td>\n",
       "    </tr>\n",
       "  </tbody>\n",
       "</table>\n",
       "</div>"
      ],
      "text/plain": [
       "         RecordedAtTime  DirectionRef PublishedLineName  \\\n",
       "2   2017-06-01 00:03:49           0.0              Bx10   \n",
       "4   2017-06-01 00:03:22           1.0               Bx1   \n",
       "11  2017-06-01 00:03:52           1.0                B1   \n",
       "20  2017-06-01 00:03:41           0.0                B6   \n",
       "21  2017-06-01 00:03:36           0.0                B4   \n",
       "\n",
       "                    DestinationName            NextStopPointName  \\\n",
       "2                  RIVERDALE 263 ST  HENRY HUDSON PKY E/W 235 ST   \n",
       "4   MOTT HAVEN 136 ST via CONCOURSE     GRAND CONCOURSE/E 196 ST   \n",
       "11     MANHATTAN BEACH KINGSBORO CC                 86 ST/BAY PY   \n",
       "20             EAST NY NEW LOTS STA          GLENWOOD RD/E 98 ST   \n",
       "21          SHEEPSHEAD BAY KNAPP ST           SHORE PKY/BROWN ST   \n",
       "\n",
       "    DistanceFromStop  ExpectedArrivalTime ScheduledArrivalTime  \n",
       "2                5.0  2017-06-01 00:03:56             24:00:53  \n",
       "4               11.0  2017-06-01 00:03:56             23:59:38  \n",
       "11              22.0  2017-06-01 00:03:57             24:05:55  \n",
       "20               4.0  2017-06-01 00:03:56             24:05:00  \n",
       "21              25.0  2017-06-01 00:03:56             24:01:49  "
      ]
     },
     "execution_count": 11,
     "metadata": {},
     "output_type": "execute_result"
    }
   ],
   "source": [
    "df.head()"
   ]
  },
  {
   "cell_type": "code",
   "execution_count": 12,
   "id": "91696299-c6cb-46cd-9896-da77421f4cd3",
   "metadata": {},
   "outputs": [
    {
     "name": "stdout",
     "output_type": "stream",
     "text": [
      "Delay calculation complete.\n"
     ]
    }
   ],
   "source": [
    "import pandas as pd\n",
    "\n",
    "def parse_scheduled_time(row):\n",
    "    rec_time = row['RecordedAtTime']\n",
    "    base_date = rec_time.date()\n",
    "    scheduled_str = row['ScheduledArrivalTime']\n",
    "    \n",
    "    hour, minute, second = map(int, scheduled_str.split(':'))\n",
    "    \n",
    "    if hour >= 24:\n",
    "        hour -= 24\n",
    "    scheduled_dt = pd.Timestamp(base_date) + pd.Timedelta(hours=hour, minutes=minute, seconds=second)\n",
    "    \n",
    "    diff = scheduled_dt - rec_time\n",
    "    if diff.total_seconds() > 12 * 3600:\n",
    "        scheduled_dt -= pd.Timedelta(days=1)\n",
    "    \n",
    "    return scheduled_dt\n",
    "\n",
    "# Convert RecordedAtTime and ExpectedArrivalTime to datetime\n",
    "df['RecordedAtTime'] = pd.to_datetime(df['RecordedAtTime'], errors='coerce')\n",
    "df['ExpectedArrivalTime'] = pd.to_datetime(df['ExpectedArrivalTime'], errors='coerce')\n",
    "\n",
    "# Parse ScheduledArrivalTime\n",
    "df['ScheduledArrivalTime_dt'] = df.apply(parse_scheduled_time, axis=1)\n",
    "\n",
    "# Compute Delay in minutes\n",
    "df['Delay'] = (df['ExpectedArrivalTime'] - df['ScheduledArrivalTime_dt']).dt.total_seconds() / 60  \n",
    "\n",
    "print(\"Delay calculation complete.\")\n"
   ]
  },
  {
   "cell_type": "code",
   "execution_count": 13,
   "id": "a2fa2051-9820-4b97-a207-b7db7723ec63",
   "metadata": {},
   "outputs": [],
   "source": [
    "df = df.drop(columns=['ExpectedArrivalTime', 'ScheduledArrivalTime', 'ScheduledArrivalTime_dt'])\n"
   ]
  },
  {
   "cell_type": "code",
   "execution_count": 14,
   "id": "913c7b31-8f22-4f2d-b2de-14c77de4d1a8",
   "metadata": {},
   "outputs": [
    {
     "data": {
      "text/html": [
       "<div>\n",
       "<style scoped>\n",
       "    .dataframe tbody tr th:only-of-type {\n",
       "        vertical-align: middle;\n",
       "    }\n",
       "\n",
       "    .dataframe tbody tr th {\n",
       "        vertical-align: top;\n",
       "    }\n",
       "\n",
       "    .dataframe thead th {\n",
       "        text-align: right;\n",
       "    }\n",
       "</style>\n",
       "<table border=\"1\" class=\"dataframe\">\n",
       "  <thead>\n",
       "    <tr style=\"text-align: right;\">\n",
       "      <th></th>\n",
       "      <th>RecordedAtTime</th>\n",
       "      <th>DirectionRef</th>\n",
       "      <th>PublishedLineName</th>\n",
       "      <th>DestinationName</th>\n",
       "      <th>NextStopPointName</th>\n",
       "      <th>DistanceFromStop</th>\n",
       "      <th>Delay</th>\n",
       "    </tr>\n",
       "  </thead>\n",
       "  <tbody>\n",
       "    <tr>\n",
       "      <th>2</th>\n",
       "      <td>2017-06-01 00:03:49</td>\n",
       "      <td>0.0</td>\n",
       "      <td>Bx10</td>\n",
       "      <td>RIVERDALE 263 ST</td>\n",
       "      <td>HENRY HUDSON PKY E/W 235 ST</td>\n",
       "      <td>5.0</td>\n",
       "      <td>3.050000</td>\n",
       "    </tr>\n",
       "    <tr>\n",
       "      <th>4</th>\n",
       "      <td>2017-06-01 00:03:22</td>\n",
       "      <td>1.0</td>\n",
       "      <td>Bx1</td>\n",
       "      <td>MOTT HAVEN 136 ST via CONCOURSE</td>\n",
       "      <td>GRAND CONCOURSE/E 196 ST</td>\n",
       "      <td>11.0</td>\n",
       "      <td>4.300000</td>\n",
       "    </tr>\n",
       "    <tr>\n",
       "      <th>11</th>\n",
       "      <td>2017-06-01 00:03:52</td>\n",
       "      <td>1.0</td>\n",
       "      <td>B1</td>\n",
       "      <td>MANHATTAN BEACH KINGSBORO CC</td>\n",
       "      <td>86 ST/BAY PY</td>\n",
       "      <td>22.0</td>\n",
       "      <td>-1.966667</td>\n",
       "    </tr>\n",
       "    <tr>\n",
       "      <th>20</th>\n",
       "      <td>2017-06-01 00:03:41</td>\n",
       "      <td>0.0</td>\n",
       "      <td>B6</td>\n",
       "      <td>EAST NY NEW LOTS STA</td>\n",
       "      <td>GLENWOOD RD/E 98 ST</td>\n",
       "      <td>4.0</td>\n",
       "      <td>-1.066667</td>\n",
       "    </tr>\n",
       "    <tr>\n",
       "      <th>21</th>\n",
       "      <td>2017-06-01 00:03:36</td>\n",
       "      <td>0.0</td>\n",
       "      <td>B4</td>\n",
       "      <td>SHEEPSHEAD BAY KNAPP ST</td>\n",
       "      <td>SHORE PKY/BROWN ST</td>\n",
       "      <td>25.0</td>\n",
       "      <td>2.116667</td>\n",
       "    </tr>\n",
       "  </tbody>\n",
       "</table>\n",
       "</div>"
      ],
      "text/plain": [
       "        RecordedAtTime  DirectionRef PublishedLineName  \\\n",
       "2  2017-06-01 00:03:49           0.0              Bx10   \n",
       "4  2017-06-01 00:03:22           1.0               Bx1   \n",
       "11 2017-06-01 00:03:52           1.0                B1   \n",
       "20 2017-06-01 00:03:41           0.0                B6   \n",
       "21 2017-06-01 00:03:36           0.0                B4   \n",
       "\n",
       "                    DestinationName            NextStopPointName  \\\n",
       "2                  RIVERDALE 263 ST  HENRY HUDSON PKY E/W 235 ST   \n",
       "4   MOTT HAVEN 136 ST via CONCOURSE     GRAND CONCOURSE/E 196 ST   \n",
       "11     MANHATTAN BEACH KINGSBORO CC                 86 ST/BAY PY   \n",
       "20             EAST NY NEW LOTS STA          GLENWOOD RD/E 98 ST   \n",
       "21          SHEEPSHEAD BAY KNAPP ST           SHORE PKY/BROWN ST   \n",
       "\n",
       "    DistanceFromStop     Delay  \n",
       "2                5.0  3.050000  \n",
       "4               11.0  4.300000  \n",
       "11              22.0 -1.966667  \n",
       "20               4.0 -1.066667  \n",
       "21              25.0  2.116667  "
      ]
     },
     "execution_count": 14,
     "metadata": {},
     "output_type": "execute_result"
    }
   ],
   "source": [
    "df.head()"
   ]
  },
  {
   "cell_type": "code",
   "execution_count": 15,
   "id": "570cde24-c760-4770-9520-9e6f3702ae53",
   "metadata": {},
   "outputs": [
    {
     "name": "stdout",
     "output_type": "stream",
     "text": [
      "New features added: Day, DayType, RushHour, and FarStatus.\n"
     ]
    }
   ],
   "source": [
    "import pandas as pd\n",
    "\n",
    "df['Day'] = df['RecordedAtTime'].dt.day_name()\n",
    "df['DayType'] = df['RecordedAtTime'].dt.weekday.apply(lambda x: 'weekend' if x >= 5 else 'workday')\n",
    "\n",
    "def rush_hour_status(time):\n",
    "    hour = time.hour\n",
    "    return 1 if (6 <= hour < 10) or (15 <= hour < 19) else 0\n",
    "\n",
    "df['RushHour'] = df['RecordedAtTime'].dt.time.apply(rush_hour_status)\n",
    "\n",
    "df['FarStatus'] = df['DistanceFromStop'].apply(lambda x: 1 if x > 200 else 0)\n",
    "\n",
    "print(\"New features added: Day, DayType, RushHour, and FarStatus.\")\n"
   ]
  },
  {
   "cell_type": "code",
   "execution_count": 18,
   "id": "ebeb8b11-96b3-47cd-9feb-e62213a6851f",
   "metadata": {},
   "outputs": [
    {
     "name": "stdout",
     "output_type": "stream",
     "text": [
      "Rush Hour Distribution:\n",
      " RushHour\n",
      "0    52.91126\n",
      "1    47.08874\n",
      "Name: proportion, dtype: float64\n"
     ]
    }
   ],
   "source": [
    "rush_hour_counts = df['RushHour'].value_counts(normalize=True) * 100\n",
    "print(\"Rush Hour Distribution:\\n\", rush_hour_counts)\n"
   ]
  },
  {
   "cell_type": "code",
   "execution_count": 19,
   "id": "3a61f7ea-dd82-43bf-b117-4357222d9062",
   "metadata": {},
   "outputs": [
    {
     "data": {
      "image/png": "[encoded data removed]",
      "text/plain": [
       "<Figure size 640x480 with 1 Axes>"
      ]
     },
     "metadata": {},
     "output_type": "display_data"
    }
   ],
   "source": [
    "import seaborn as sns\n",
    "import matplotlib.pyplot as plt\n",
    "\n",
    "sns.countplot(x=df['RushHour'])\n",
    "plt.title('Rush Hour vs. Non-Rush Hour Bus Operations')\n",
    "plt.xlabel('Rush Hour (1 = Yes, 0 = No)')\n",
    "plt.ylabel('Count')\n",
    "plt.show()\n"
   ]
  },
  {
   "cell_type": "code",
   "execution_count": 20,
   "id": "3df7b8c0-551c-4c16-a498-a0c8e1485fc2",
   "metadata": {},
   "outputs": [
    {
     "name": "stdout",
     "output_type": "stream",
     "text": [
      "Workday vs. Weekend Distribution:\n",
      " DayType\n",
      "workday    77.132749\n",
      "weekend    22.867251\n",
      "Name: proportion, dtype: float64\n"
     ]
    }
   ],
   "source": [
    "daytype_counts = df['DayType'].value_counts(normalize=True) * 100\n",
    "print(\"Workday vs. Weekend Distribution:\\n\", daytype_counts)\n"
   ]
  },
  {
   "cell_type": "code",
   "execution_count": 21,
   "id": "6dd1f856-7d67-462d-b9b6-a6656337432a",
   "metadata": {},
   "outputs": [
    {
     "data": {
      "image/png": "[encoded data removed]",
      "text/plain": [
       "<Figure size 640x480 with 1 Axes>"
      ]
     },
     "metadata": {},
     "output_type": "display_data"
    }
   ],
   "source": [
    "sns.countplot(x=df['DayType'])\n",
    "plt.title('Bus Operations on Workdays vs. Weekends')\n",
    "plt.xlabel('Day Type')\n",
    "plt.ylabel('Count')\n",
    "plt.show()\n"
   ]
  },
  {
   "cell_type": "code",
   "execution_count": 25,
   "id": "8c19f330-cbc9-440a-b5e3-69aa3b12774b",
   "metadata": {},
   "outputs": [],
   "source": [
    "df = df.drop(columns=['Day'])"
   ]
  },
  {
   "cell_type": "code",
   "execution_count": 26,
   "id": "97b6bfaf-5fa5-4dac-b0ad-b405746ae080",
   "metadata": {},
   "outputs": [],
   "source": [
    "df = df.drop(columns=['FarStatus'])"
   ]
  },
  {
   "cell_type": "code",
   "execution_count": 28,
   "id": "ee075d8a-52bf-4a3a-a7da-9c3a1636f2ef",
   "metadata": {},
   "outputs": [],
   "source": [
    "from sklearn.model_selection import train_test_split\n",
    "\n",
    "df_sampled, _ = train_test_split(df, test_size=0.9, stratify=df['DayType'], random_state=42)\n"
   ]
  },
  {
   "cell_type": "code",
   "execution_count": 38,
   "id": "929f6f37-d3c2-4996-ba30-6cb16aebf018",
   "metadata": {},
   "outputs": [
    {
     "data": {
      "text/plain": [
       "(535319, 9)"
      ]
     },
     "execution_count": 38,
     "metadata": {},
     "output_type": "execute_result"
    }
   ],
   "source": [
    "df_sampled.shape"
   ]
  },
  {
   "cell_type": "code",
   "execution_count": 144,
   "id": "ed26c619-2f0e-43da-9c4a-867d8171e871",
   "metadata": {},
   "outputs": [],
   "source": [
    "for col in ['PublishedLineName', 'DestinationName', 'NextStopPointName']:\n",
    "    freq_map = df[col].value_counts(normalize=True)  # Get frequency of each category\n",
    "    df[col] = df[col].map(freq_map)\n"
   ]
  },
  {
   "cell_type": "code",
   "execution_count": 149,
   "id": "7dbc0ec2-8311-405c-9d29-15754fd669fe",
   "metadata": {},
   "outputs": [],
   "source": [
    "df.to_csv(\"busbus.csv\", index=False)\n"
   ]
  },
  {
   "cell_type": "code",
   "execution_count": 151,
   "id": "9d8eaeb4-9af3-4275-b1ca-f7638dd64904",
   "metadata": {},
   "outputs": [
    {
     "name": "stderr",
     "output_type": "stream",
     "text": [
      "C:\\Users\\User\\AppData\\Local\\Temp\\ipykernel_25052\\963731363.py:8: FutureWarning: 'H' is deprecated and will be removed in a future version, please use 'h' instead.\n",
      "  bus_sample['RoundedDatetime'] = bus_sample['RecordedAtTime'].dt.floor('H')\n"
     ]
    },
    {
     "name": "stdout",
     "output_type": "stream",
     "text": [
      "Merged bus and weather data saved as 'data_for_modeling.csv'.\n",
      "       RecordedAtTime  DirectionRef  PublishedLineName  DestinationName  \\\n",
      "0 2017-06-01 00:03:49           0.0           0.005259         0.005753   \n",
      "1 2017-06-01 00:03:22           1.0           0.004949         0.004539   \n",
      "2 2017-06-01 00:03:52           1.0           0.008690         0.004006   \n",
      "3 2017-06-01 00:03:41           0.0           0.021032         0.001514   \n",
      "4 2017-06-01 00:03:36           0.0           0.004922         0.002494   \n",
      "\n",
      "   NextStopPointName  DistanceFromStop     Delay  DayType  RushHour  \\\n",
      "0           0.000144               5.0  3.050000        0         0   \n",
      "1           0.000182              11.0  4.300000        0         0   \n",
      "2           0.000426              22.0 -1.966667        0         0   \n",
      "3           0.000311               4.0 -1.066667        0         0   \n",
      "4           0.000017              25.0  2.116667        0         0   \n",
      "\n",
      "   temperature_2m (°C)  precipitation (mm)  rain (mm)  cloudcover (%)  \\\n",
      "0                 21.0                 0.0        0.0            20.0   \n",
      "1                 21.0                 0.0        0.0            20.0   \n",
      "2                 21.0                 0.0        0.0            20.0   \n",
      "3                 21.0                 0.0        0.0            20.0   \n",
      "4                 21.0                 0.0        0.0            20.0   \n",
      "\n",
      "   cloudcover_low (%)  cloudcover_mid (%)  cloudcover_high (%)  \\\n",
      "0                 2.0                22.0                 15.0   \n",
      "1                 2.0                22.0                 15.0   \n",
      "2                 2.0                22.0                 15.0   \n",
      "3                 2.0                22.0                 15.0   \n",
      "4                 2.0                22.0                 15.0   \n",
      "\n",
      "   windspeed_10m (km/h)  winddirection_10m (°)  \n",
      "0                   6.6                  193.0  \n",
      "1                   6.6                  193.0  \n",
      "2                   6.6                  193.0  \n",
      "3                   6.6                  193.0  \n",
      "4                   6.6                  193.0  \n"
     ]
    }
   ],
   "source": [
    "bus_sample = pd.read_csv(\"busbus.csv\")\n",
    "nyc_weather = pd.read_csv(\"NYC_Weather_2016_2022.csv\", on_bad_lines='skip')\n",
    "\n",
    "bus_sample['RecordedAtTime'] = pd.to_datetime(bus_sample['RecordedAtTime'], errors='coerce')\n",
    "nyc_weather.rename(columns={'time': 'WeatherDatetime'}, inplace=True)\n",
    "nyc_weather['WeatherDatetime'] = pd.to_datetime(nyc_weather['WeatherDatetime'], errors='coerce')\n",
    "\n",
    "bus_sample['RoundedDatetime'] = bus_sample['RecordedAtTime'].dt.floor('H')\n",
    "\n",
    "merged_data = pd.merge(bus_sample, nyc_weather, left_on='RoundedDatetime', right_on='WeatherDatetime', how='left')\n",
    "\n",
    "merged_data.drop(columns=['RoundedDatetime', 'WeatherDatetime'], inplace=True)\n",
    "\n",
    "merged_data.to_csv(\"for_modeling.csv\", index=False)\n",
    "\n",
    "print(\"Merged bus and weather data saved as 'data_for_modeling.csv'.\")\n",
    "print(merged_data.head())\n"
   ]
  },
  {
   "cell_type": "code",
   "execution_count": 8,
   "id": "5007ed70-e216-4be2-b26d-d151b55ff5ae",
   "metadata": {},
   "outputs": [],
   "source": [
    "import pandas as pd \n",
    "df = pd.read_csv(\"for_modeling.csv\")"
   ]
  },
  {
   "cell_type": "code",
   "execution_count": 10,
   "id": "4bdc3c16-5cc9-417a-8a2b-1648914b3d4e",
   "metadata": {},
   "outputs": [],
   "source": [
    "from sklearn.preprocessing import StandardScaler\n",
    "\n",
    "scaler = StandardScaler()\n",
    "num_cols = ['DistanceFromStop', 'temperature_2m (°C)', 'Delay','precipitation (mm)', 'rain (mm)', \n",
    "            'cloudcover (%)', 'cloudcover_low (%)', 'cloudcover_mid (%)', 'cloudcover_high (%)', \n",
    "            'windspeed_10m (km/h)', 'winddirection_10m (°)']\n",
    "df[num_cols] = scaler.fit_transform(df[num_cols])\n"
   ]
  },
  {
   "cell_type": "code",
   "execution_count": 11,
   "id": "b384c706-44ad-4414-82b0-1fe1712bb16c",
   "metadata": {},
   "outputs": [],
   "source": [
    "df.drop(columns=['RecordedAtTime'], inplace=True)\n"
   ]
  },
  {
   "cell_type": "code",
   "execution_count": 12,
   "id": "b38ddb63-af10-493e-9d53-979b30bb8c34",
   "metadata": {},
   "outputs": [],
   "source": [
    "df = df.drop_duplicates()\n"
   ]
  },
  {
   "cell_type": "code",
   "execution_count": 13,
   "id": "8668ce4b-a0fd-4532-b71f-d8dba1284510",
   "metadata": {
    "scrolled": true
   },
   "outputs": [
    {
     "data": {
      "text/plain": [
       "(5345919, 17)"
      ]
     },
     "execution_count": 13,
     "metadata": {},
     "output_type": "execute_result"
    }
   ],
   "source": [
    "df.shape"
   ]
  },
  {
   "cell_type": "code",
   "execution_count": 14,
   "id": "90f76387-4017-4002-b586-d94d69b520f0",
   "metadata": {},
   "outputs": [
    {
     "name": "stdout",
     "output_type": "stream",
     "text": [
      "(1844555, 17)\n"
     ]
    }
   ],
   "source": [
    "df_filtered = df[df['Delay'] > 0]\n",
    "\n",
    "print(df_filtered.shape)\n"
   ]
  },
  {
   "cell_type": "code",
   "execution_count": 17,
   "id": "37f71234-5e28-4820-bc9a-f15e05c5083a",
   "metadata": {},
   "outputs": [
    {
     "name": "stderr",
     "output_type": "stream",
     "text": [
      "C:\\Users\\User\\AppData\\Local\\Temp\\ipykernel_5212\\2310368640.py:1: DeprecationWarning: DataFrameGroupBy.apply operated on the grouping columns. This behavior is deprecated, and in a future version of pandas the grouping columns will be excluded from the operation. Either pass `include_groups=False` to exclude the groupings or explicitly select the grouping columns after groupby to silence this warning.\n",
      "  df_sampled = df_filtered.groupby('PublishedLineName').apply(lambda x: x.sample(frac=0.3, random_state=42)).reset_index(drop=True)\n"
     ]
    }
   ],
   "source": [
    "df_sampled = df_filtered.groupby('PublishedLineName').apply(lambda x: x.sample(frac=0.3, random_state=42)).reset_index(drop=True)\n"
   ]
  },
  {
   "cell_type": "code",
   "execution_count": 49,
   "id": "255b3f7d-1032-4f3d-b5a7-76442b4b0680",
   "metadata": {},
   "outputs": [],
   "source": [
    "df = df_sampled"
   ]
  },
  {
   "cell_type": "code",
   "execution_count": 51,
   "id": "44b744dd-47aa-45e1-8fa8-d97c493d3f2e",
   "metadata": {},
   "outputs": [
    {
     "data": {
      "text/html": [
       "<div>\n",
       "<style scoped>\n",
       "    .dataframe tbody tr th:only-of-type {\n",
       "        vertical-align: middle;\n",
       "    }\n",
       "\n",
       "    .dataframe tbody tr th {\n",
       "        vertical-align: top;\n",
       "    }\n",
       "\n",
       "    .dataframe thead th {\n",
       "        text-align: right;\n",
       "    }\n",
       "</style>\n",
       "<table border=\"1\" class=\"dataframe\">\n",
       "  <thead>\n",
       "    <tr style=\"text-align: right;\">\n",
       "      <th></th>\n",
       "      <th>DirectionRef</th>\n",
       "      <th>PublishedLineName</th>\n",
       "      <th>DestinationName</th>\n",
       "      <th>NextStopPointName</th>\n",
       "      <th>DistanceFromStop</th>\n",
       "      <th>Delay</th>\n",
       "      <th>DayType</th>\n",
       "      <th>RushHour</th>\n",
       "      <th>temperature_2m (°C)</th>\n",
       "      <th>precipitation (mm)</th>\n",
       "      <th>rain (mm)</th>\n",
       "      <th>cloudcover (%)</th>\n",
       "      <th>cloudcover_low (%)</th>\n",
       "      <th>cloudcover_mid (%)</th>\n",
       "      <th>cloudcover_high (%)</th>\n",
       "      <th>windspeed_10m (km/h)</th>\n",
       "      <th>winddirection_10m (°)</th>\n",
       "    </tr>\n",
       "  </thead>\n",
       "  <tbody>\n",
       "    <tr>\n",
       "      <th>0</th>\n",
       "      <td>1.0</td>\n",
       "      <td>0.000055</td>\n",
       "      <td>0.000055</td>\n",
       "      <td>0.000171</td>\n",
       "      <td>0.218581</td>\n",
       "      <td>0.164002</td>\n",
       "      <td>0</td>\n",
       "      <td>1</td>\n",
       "      <td>0.956234</td>\n",
       "      <td>-0.209168</td>\n",
       "      <td>-0.20352</td>\n",
       "      <td>-0.822659</td>\n",
       "      <td>-0.690786</td>\n",
       "      <td>-0.837416</td>\n",
       "      <td>0.169142</td>\n",
       "      <td>-0.152319</td>\n",
       "      <td>1.005520</td>\n",
       "    </tr>\n",
       "    <tr>\n",
       "      <th>1</th>\n",
       "      <td>1.0</td>\n",
       "      <td>0.000055</td>\n",
       "      <td>0.000055</td>\n",
       "      <td>0.000101</td>\n",
       "      <td>0.576603</td>\n",
       "      <td>0.059681</td>\n",
       "      <td>0</td>\n",
       "      <td>1</td>\n",
       "      <td>-0.997585</td>\n",
       "      <td>-0.209168</td>\n",
       "      <td>-0.20352</td>\n",
       "      <td>1.212935</td>\n",
       "      <td>-0.606984</td>\n",
       "      <td>1.991562</td>\n",
       "      <td>1.351052</td>\n",
       "      <td>-0.095254</td>\n",
       "      <td>0.564137</td>\n",
       "    </tr>\n",
       "    <tr>\n",
       "      <th>2</th>\n",
       "      <td>1.0</td>\n",
       "      <td>0.000055</td>\n",
       "      <td>0.000055</td>\n",
       "      <td>0.000065</td>\n",
       "      <td>0.099241</td>\n",
       "      <td>0.121183</td>\n",
       "      <td>0</td>\n",
       "      <td>1</td>\n",
       "      <td>-1.050107</td>\n",
       "      <td>-0.209168</td>\n",
       "      <td>-0.20352</td>\n",
       "      <td>0.393410</td>\n",
       "      <td>-0.215907</td>\n",
       "      <td>-0.101882</td>\n",
       "      <td>1.447535</td>\n",
       "      <td>1.787886</td>\n",
       "      <td>0.942466</td>\n",
       "    </tr>\n",
       "    <tr>\n",
       "      <th>3</th>\n",
       "      <td>1.0</td>\n",
       "      <td>0.000055</td>\n",
       "      <td>0.000055</td>\n",
       "      <td>0.000026</td>\n",
       "      <td>-1.332846</td>\n",
       "      <td>0.313477</td>\n",
       "      <td>0</td>\n",
       "      <td>1</td>\n",
       "      <td>0.378491</td>\n",
       "      <td>-0.209168</td>\n",
       "      <td>-0.20352</td>\n",
       "      <td>-1.166331</td>\n",
       "      <td>-0.690786</td>\n",
       "      <td>-0.837416</td>\n",
       "      <td>-0.843924</td>\n",
       "      <td>-1.350681</td>\n",
       "      <td>-1.958050</td>\n",
       "    </tr>\n",
       "    <tr>\n",
       "      <th>4</th>\n",
       "      <td>1.0</td>\n",
       "      <td>0.000055</td>\n",
       "      <td>0.000055</td>\n",
       "      <td>0.000026</td>\n",
       "      <td>-1.332846</td>\n",
       "      <td>0.545474</td>\n",
       "      <td>0</td>\n",
       "      <td>1</td>\n",
       "      <td>-1.323222</td>\n",
       "      <td>-0.209168</td>\n",
       "      <td>-0.20352</td>\n",
       "      <td>0.842827</td>\n",
       "      <td>-0.579049</td>\n",
       "      <td>1.652084</td>\n",
       "      <td>0.723916</td>\n",
       "      <td>-1.027313</td>\n",
       "      <td>-0.907139</td>\n",
       "    </tr>\n",
       "  </tbody>\n",
       "</table>\n",
       "</div>"
      ],
      "text/plain": [
       "   DirectionRef  PublishedLineName  DestinationName  NextStopPointName  \\\n",
       "0           1.0           0.000055         0.000055           0.000171   \n",
       "1           1.0           0.000055         0.000055           0.000101   \n",
       "2           1.0           0.000055         0.000055           0.000065   \n",
       "3           1.0           0.000055         0.000055           0.000026   \n",
       "4           1.0           0.000055         0.000055           0.000026   \n",
       "\n",
       "   DistanceFromStop     Delay  DayType  RushHour  temperature_2m (°C)  \\\n",
       "0          0.218581  0.164002        0         1             0.956234   \n",
       "1          0.576603  0.059681        0         1            -0.997585   \n",
       "2          0.099241  0.121183        0         1            -1.050107   \n",
       "3         -1.332846  0.313477        0         1             0.378491   \n",
       "4         -1.332846  0.545474        0         1            -1.323222   \n",
       "\n",
       "   precipitation (mm)  rain (mm)  cloudcover (%)  cloudcover_low (%)  \\\n",
       "0           -0.209168   -0.20352       -0.822659           -0.690786   \n",
       "1           -0.209168   -0.20352        1.212935           -0.606984   \n",
       "2           -0.209168   -0.20352        0.393410           -0.215907   \n",
       "3           -0.209168   -0.20352       -1.166331           -0.690786   \n",
       "4           -0.209168   -0.20352        0.842827           -0.579049   \n",
       "\n",
       "   cloudcover_mid (%)  cloudcover_high (%)  windspeed_10m (km/h)  \\\n",
       "0           -0.837416             0.169142             -0.152319   \n",
       "1            1.991562             1.351052             -0.095254   \n",
       "2           -0.101882             1.447535              1.787886   \n",
       "3           -0.837416            -0.843924             -1.350681   \n",
       "4            1.652084             0.723916             -1.027313   \n",
       "\n",
       "   winddirection_10m (°)  \n",
       "0               1.005520  \n",
       "1               0.564137  \n",
       "2               0.942466  \n",
       "3              -1.958050  \n",
       "4              -0.907139  "
      ]
     },
     "execution_count": 51,
     "metadata": {},
     "output_type": "execute_result"
    }
   ],
   "source": [
    "df.head()"
   ]
  },
  {
   "cell_type": "markdown",
   "id": "c8e3d367-60f6-42ca-a8be-300da72c93ae",
   "metadata": {},
   "source": [
    "# Feature importance"
   ]
  },
  {
   "cell_type": "code",
   "execution_count": 70,
   "id": "0bda04f4-61f8-4f26-bc01-322aaa87cb4e",
   "metadata": {},
   "outputs": [
    {
     "name": "stdout",
     "output_type": "stream",
     "text": [
      "NextStopPointName        0.178382\n",
      "DistanceFromStop         0.135358\n",
      "winddirection_10m (°)    0.105395\n",
      "temperature_2m (°C)      0.101326\n",
      "DestinationName          0.095201\n",
      "PublishedLineName        0.089332\n",
      "windspeed_10m (km/h)     0.084156\n",
      "cloudcover (%)           0.049580\n",
      "cloudcover_high (%)      0.047001\n",
      "cloudcover_mid (%)       0.040911\n",
      "cloudcover_low (%)       0.030880\n",
      "DirectionRef             0.016693\n",
      "DayType                  0.007414\n",
      "RushHour                 0.006639\n",
      "precipitation (mm)       0.006093\n",
      "rain (mm)                0.005638\n",
      "dtype: float64\n"
     ]
    }
   ],
   "source": [
    "from sklearn.ensemble import RandomForestRegressor  \n",
    "\n",
    "X = df_sampled.drop('Delay', axis=1)\n",
    "y = df_sampled['Delay']\n",
    "\n",
    "model = RandomForestRegressor()\n",
    "model.fit(X, y)\n",
    "\n",
    "feature_importance = pd.Series(model.feature_importances_, index=X.columns)\n",
    "feature_importance = feature_importance.sort_values(ascending=False)\n",
    "print(feature_importance)\n"
   ]
  },
  {
   "cell_type": "code",
   "execution_count": 65,
   "id": "612e0f78-1027-4d35-aabb-83bab8a09ff3",
   "metadata": {},
   "outputs": [
    {
     "name": "stdout",
     "output_type": "stream",
     "text": [
      "[LightGBM] [Warning] Found whitespace in feature_names, replace with underlines\n",
      "[LightGBM] [Info] Auto-choosing row-wise multi-threading, the overhead of testing was 0.010034 seconds.\n",
      "You can set `force_row_wise=true` to remove the overhead.\n",
      "And if memory is not enough, you can set `force_col_wise=true`.\n",
      "[LightGBM] [Info] Total Bins 2018\n",
      "[LightGBM] [Info] Number of data points in the train set: 354152, number of used features: 16\n",
      "[LightGBM] [Info] Start training from score 0.456124\n",
      "[LightGBM] [Warning] Found whitespace in feature_names, replace with underlines\n",
      "[LightGBM] [Info] Auto-choosing col-wise multi-threading, the overhead of testing was 0.017261 seconds.\n",
      "You can set `force_col_wise=true` to remove the overhead.\n",
      "[LightGBM] [Info] Total Bins 2018\n",
      "[LightGBM] [Info] Number of data points in the train set: 354153, number of used features: 16\n",
      "[LightGBM] [Info] Start training from score 0.456578\n",
      "[LightGBM] [Warning] Found whitespace in feature_names, replace with underlines\n",
      "[LightGBM] [Info] Auto-choosing col-wise multi-threading, the overhead of testing was 0.017958 seconds.\n",
      "You can set `force_col_wise=true` to remove the overhead.\n",
      "[LightGBM] [Info] Total Bins 2016\n",
      "[LightGBM] [Info] Number of data points in the train set: 354153, number of used features: 16\n",
      "[LightGBM] [Info] Start training from score 0.454851\n",
      "[LightGBM] [Warning] Found whitespace in feature_names, replace with underlines\n",
      "[LightGBM] [Info] Auto-choosing col-wise multi-threading, the overhead of testing was 0.017653 seconds.\n",
      "You can set `force_col_wise=true` to remove the overhead.\n",
      "[LightGBM] [Info] Total Bins 2018\n",
      "[LightGBM] [Info] Number of data points in the train set: 354153, number of used features: 16\n",
      "[LightGBM] [Info] Start training from score 0.457402\n",
      "[LightGBM] [Warning] Found whitespace in feature_names, replace with underlines\n",
      "[LightGBM] [Info] Auto-choosing row-wise multi-threading, the overhead of testing was 0.008958 seconds.\n",
      "You can set `force_row_wise=true` to remove the overhead.\n",
      "And if memory is not enough, you can set `force_col_wise=true`.\n",
      "[LightGBM] [Info] Total Bins 2016\n",
      "[LightGBM] [Info] Number of data points in the train set: 354153, number of used features: 16\n",
      "[LightGBM] [Info] Start training from score 0.456938\n",
      "[LightGBM] [Warning] Found whitespace in feature_names, replace with underlines\n",
      "[LightGBM] [Info] Auto-choosing row-wise multi-threading, the overhead of testing was 0.011517 seconds.\n",
      "You can set `force_row_wise=true` to remove the overhead.\n",
      "And if memory is not enough, you can set `force_col_wise=true`.\n",
      "[LightGBM] [Info] Total Bins 2018\n",
      "[LightGBM] [Info] Number of data points in the train set: 354152, number of used features: 16\n",
      "[LightGBM] [Info] Start training from score 0.456124\n",
      "[LightGBM] [Warning] Found whitespace in feature_names, replace with underlines\n",
      "[LightGBM] [Info] Auto-choosing col-wise multi-threading, the overhead of testing was 0.016687 seconds.\n",
      "You can set `force_col_wise=true` to remove the overhead.\n",
      "[LightGBM] [Info] Total Bins 2018\n",
      "[LightGBM] [Info] Number of data points in the train set: 354153, number of used features: 16\n",
      "[LightGBM] [Info] Start training from score 0.456578\n",
      "[LightGBM] [Warning] Found whitespace in feature_names, replace with underlines\n",
      "[LightGBM] [Info] Auto-choosing col-wise multi-threading, the overhead of testing was 0.016597 seconds.\n",
      "You can set `force_col_wise=true` to remove the overhead.\n",
      "[LightGBM] [Info] Total Bins 2016\n",
      "[LightGBM] [Info] Number of data points in the train set: 354153, number of used features: 16\n",
      "[LightGBM] [Info] Start training from score 0.454851\n",
      "[LightGBM] [Warning] Found whitespace in feature_names, replace with underlines\n",
      "[LightGBM] [Info] Auto-choosing col-wise multi-threading, the overhead of testing was 0.015234 seconds.\n",
      "You can set `force_col_wise=true` to remove the overhead.\n",
      "[LightGBM] [Info] Total Bins 2018\n",
      "[LightGBM] [Info] Number of data points in the train set: 354153, number of used features: 16\n",
      "[LightGBM] [Info] Start training from score 0.457402\n",
      "[LightGBM] [Warning] Found whitespace in feature_names, replace with underlines\n",
      "[LightGBM] [Info] Auto-choosing row-wise multi-threading, the overhead of testing was 0.007891 seconds.\n",
      "You can set `force_row_wise=true` to remove the overhead.\n",
      "And if memory is not enough, you can set `force_col_wise=true`.\n",
      "[LightGBM] [Info] Total Bins 2016\n",
      "[LightGBM] [Info] Number of data points in the train set: 354153, number of used features: 16\n",
      "[LightGBM] [Info] Start training from score 0.456938\n"
     ]
    },
    {
     "data": {
      "image/png": "[encoded data removed]",
      "text/plain": [
       "<Figure size 1200x600 with 1 Axes>"
      ]
     },
     "metadata": {},
     "output_type": "display_data"
    },
    {
     "name": "stdout",
     "output_type": "stream",
     "text": [
      "               Model       MAE       MSE      RMSE\n",
      "0  Linear Regression  0.388524  2.624688  1.620089\n",
      "1  Gradient Boosting  0.382701  2.605679  1.614212\n",
      "2           LightGBM  0.385456  2.569986  1.603118\n"
     ]
    }
   ],
   "source": [
    "import numpy as np\n",
    "import pandas as pd\n",
    "import matplotlib.pyplot as plt\n",
    "import seaborn as sns\n",
    "from sklearn.model_selection import train_test_split, cross_val_score, KFold\n",
    "from sklearn.preprocessing import StandardScaler\n",
    "from sklearn.linear_model import LinearRegression\n",
    "from sklearn.ensemble import GradientBoostingRegressor\n",
    "import lightgbm as lgb\n",
    "from sklearn.metrics import mean_absolute_error, mean_squared_error\n",
    "\n",
    "X = df_sampled.drop(columns=['Delay'])\n",
    "y = df_sampled['Delay']\n",
    "\n",
    "X_train, X_valid, y_train, y_valid = train_test_split(X, y, test_size=0.2, random_state=42)\n",
    "\n",
    "scaler = StandardScaler()\n",
    "X_train_scaled = scaler.fit_transform(X_train)\n",
    "X_valid_scaled = scaler.transform(X_valid)\n",
    "\n",
    "models = {\n",
    "    \"Linear Regression\": LinearRegression(),\n",
    "    \"Gradient Boosting\": GradientBoostingRegressor(n_estimators=100, learning_rate=0.1, random_state=42),\n",
    "    \"LightGBM\": lgb.LGBMRegressor(n_estimators=100, learning_rate=0.1, random_state=42)\n",
    "}\n",
    "\n",
    "kf = KFold(n_splits=5, shuffle=True, random_state=42)\n",
    "results = []\n",
    "\n",
    "for name, model in models.items():\n",
    "    scores = cross_val_score(model, X_train_scaled if name == \"Linear Regression\" else X_train, y_train, cv=kf, scoring='neg_mean_absolute_error')\n",
    "    mae = -np.mean(scores)\n",
    "    \n",
    "    scores_mse = cross_val_score(model, X_train_scaled if name == \"Linear Regression\" else X_train, y_train, cv=kf, scoring='neg_mean_squared_error')\n",
    "    mse = -np.mean(scores_mse)\n",
    "    rmse = np.sqrt(mse)\n",
    "    \n",
    "    results.append({\"Model\": name, \"MAE\": mae, \"MSE\": mse, \"RMSE\": rmse})\n",
    "\n",
    "metrics_df = pd.DataFrame(results)\n",
    "\n",
    "plt.figure(figsize=(12, 6))\n",
    "sns.barplot(data=metrics_df.melt(id_vars=\"Model\", var_name=\"Metric\", value_name=\"Score\"), x=\"Model\", y=\"Score\", hue=\"Metric\")\n",
    "plt.title(\"Model Performance Comparison (K-Fold CV)\")\n",
    "plt.xlabel(\"Model\")\n",
    "plt.ylabel(\"Score\")\n",
    "plt.legend(title=\"Metric\")\n",
    "plt.show()\n",
    "\n",
    "metrics_df.to_csv(\"model_metrics.csv\", index=False)\n",
    "\n",
    "print(metrics_df)\n"
   ]
  },
  {
   "cell_type": "markdown",
   "id": "96777806-ba69-4797-9633-07ab9d2bc562",
   "metadata": {},
   "source": []
  },
  {
   "cell_type": "code",
   "execution_count": 26,
   "id": "80e27811-82f6-4514-a69a-c291f9c7d1f3",
   "metadata": {},
   "outputs": [],
   "source": [
    "import numpy as np\n",
    "import pandas as pd\n",
    "import json\n",
    "import matplotlib.pyplot as plt\n",
    "from sklearn.model_selection import train_test_split\n",
    "from sklearn.preprocessing import StandardScaler\n",
    "from sklearn.metrics import mean_absolute_error, mean_squared_error\n",
    "import tensorflow as tf\n",
    "from tensorflow.keras.models import Sequential\n",
    "from tensorflow.keras.layers import SimpleRNN, Dense, Dropout, BatchNormalization\n",
    "from tensorflow.keras.regularizers import l2\n",
    "from tensorflow.keras.callbacks import EarlyStopping\n",
    "\n",
    "\n",
    "X = df_sampled.drop(columns=['Delay'])\n",
    "y = df_sampled['Delay']\n",
    "\n",
    "X_train, X_valid, y_train, y_valid = train_test_split(X, y, test_size=0.2, random_state=42)\n",
    "\n",
    "\n",
    "scaler_X = StandardScaler()\n",
    "X_train_scaled = scaler_X.fit_transform(X_train)\n",
    "X_valid_scaled = scaler_X.transform(X_valid)\n",
    "\n",
    "scaler_y = StandardScaler()\n",
    "y_train_scaled = scaler_y.fit_transform(y_train.to_numpy().reshape(-1, 1)).flatten()\n",
    "y_valid_scaled = scaler_y.transform(y_valid.to_numpy().reshape(-1, 1)).flatten()\n"
   ]
  },
  {
   "cell_type": "markdown",
   "id": "8338bf3e-0b28-4732-a0c9-22b7f617c2ff",
   "metadata": {},
   "source": [
    "# RNN"
   ]
  },
  {
   "cell_type": "code",
   "execution_count": 30,
   "id": "a163050f-c386-4dbf-a60c-204aedea2a88",
   "metadata": {},
   "outputs": [
    {
     "name": "stderr",
     "output_type": "stream",
     "text": [
      "C:\\Users\\User\\anaconda3\\Lib\\site-packages\\keras\\src\\layers\\rnn\\rnn.py:204: UserWarning: Do not pass an `input_shape`/`input_dim` argument to a layer. When using Sequential models, prefer using an `Input(shape)` object as the first layer in the model instead.\n",
      "  super().__init__(**kwargs)\n"
     ]
    },
    {
     "data": {
      "text/html": [
       "<pre style=\"white-space:pre;overflow-x:auto;line-height:normal;font-family:Menlo,'DejaVu Sans Mono',consolas,'Courier New',monospace\"><span style=\"font-weight: bold\">Model: \"sequential_1\"</span>\n",
       "</pre>\n"
      ],
      "text/plain": [
       "\u001b[1mModel: \"sequential_1\"\u001b[0m\n"
      ]
     },
     "metadata": {},
     "output_type": "display_data"
    },
    {
     "data": {
      "text/html": [
       "<pre style=\"white-space:pre;overflow-x:auto;line-height:normal;font-family:Menlo,'DejaVu Sans Mono',consolas,'Courier New',monospace\">┏━━━━━━━━━━━━━━━━━━━━━━━━━━━━━━━━━┳━━━━━━━━━━━━━━━━━━━━━━━━┳━━━━━━━━━━━━━━━┓\n",
       "┃<span style=\"font-weight: bold\"> Layer (type)                    </span>┃<span style=\"font-weight: bold\"> Output Shape           </span>┃<span style=\"font-weight: bold\">       Param # </span>┃\n",
       "┡━━━━━━━━━━━━━━━━━━━━━━━━━━━━━━━━━╇━━━━━━━━━━━━━━━━━━━━━━━━╇━━━━━━━━━━━━━━━┩\n",
       "│ simple_rnn_3 (<span style=\"color: #0087ff; text-decoration-color: #0087ff\">SimpleRNN</span>)        │ (<span style=\"color: #00d7ff; text-decoration-color: #00d7ff\">None</span>, <span style=\"color: #00af00; text-decoration-color: #00af00\">1</span>, <span style=\"color: #00af00; text-decoration-color: #00af00\">128</span>)         │        <span style=\"color: #00af00; text-decoration-color: #00af00\">18,560</span> │\n",
       "├─────────────────────────────────┼────────────────────────┼───────────────┤\n",
       "│ dropout_3 (<span style=\"color: #0087ff; text-decoration-color: #0087ff\">Dropout</span>)             │ (<span style=\"color: #00d7ff; text-decoration-color: #00d7ff\">None</span>, <span style=\"color: #00af00; text-decoration-color: #00af00\">1</span>, <span style=\"color: #00af00; text-decoration-color: #00af00\">128</span>)         │             <span style=\"color: #00af00; text-decoration-color: #00af00\">0</span> │\n",
       "├─────────────────────────────────┼────────────────────────┼───────────────┤\n",
       "│ batch_normalization_2           │ (<span style=\"color: #00d7ff; text-decoration-color: #00d7ff\">None</span>, <span style=\"color: #00af00; text-decoration-color: #00af00\">1</span>, <span style=\"color: #00af00; text-decoration-color: #00af00\">128</span>)         │           <span style=\"color: #00af00; text-decoration-color: #00af00\">512</span> │\n",
       "│ (<span style=\"color: #0087ff; text-decoration-color: #0087ff\">BatchNormalization</span>)            │                        │               │\n",
       "├─────────────────────────────────┼────────────────────────┼───────────────┤\n",
       "│ simple_rnn_4 (<span style=\"color: #0087ff; text-decoration-color: #0087ff\">SimpleRNN</span>)        │ (<span style=\"color: #00d7ff; text-decoration-color: #00d7ff\">None</span>, <span style=\"color: #00af00; text-decoration-color: #00af00\">1</span>, <span style=\"color: #00af00; text-decoration-color: #00af00\">64</span>)          │        <span style=\"color: #00af00; text-decoration-color: #00af00\">12,352</span> │\n",
       "├─────────────────────────────────┼────────────────────────┼───────────────┤\n",
       "│ dropout_4 (<span style=\"color: #0087ff; text-decoration-color: #0087ff\">Dropout</span>)             │ (<span style=\"color: #00d7ff; text-decoration-color: #00d7ff\">None</span>, <span style=\"color: #00af00; text-decoration-color: #00af00\">1</span>, <span style=\"color: #00af00; text-decoration-color: #00af00\">64</span>)          │             <span style=\"color: #00af00; text-decoration-color: #00af00\">0</span> │\n",
       "├─────────────────────────────────┼────────────────────────┼───────────────┤\n",
       "│ batch_normalization_3           │ (<span style=\"color: #00d7ff; text-decoration-color: #00d7ff\">None</span>, <span style=\"color: #00af00; text-decoration-color: #00af00\">1</span>, <span style=\"color: #00af00; text-decoration-color: #00af00\">64</span>)          │           <span style=\"color: #00af00; text-decoration-color: #00af00\">256</span> │\n",
       "│ (<span style=\"color: #0087ff; text-decoration-color: #0087ff\">BatchNormalization</span>)            │                        │               │\n",
       "├─────────────────────────────────┼────────────────────────┼───────────────┤\n",
       "│ simple_rnn_5 (<span style=\"color: #0087ff; text-decoration-color: #0087ff\">SimpleRNN</span>)        │ (<span style=\"color: #00d7ff; text-decoration-color: #00d7ff\">None</span>, <span style=\"color: #00af00; text-decoration-color: #00af00\">32</span>)             │         <span style=\"color: #00af00; text-decoration-color: #00af00\">3,104</span> │\n",
       "├─────────────────────────────────┼────────────────────────┼───────────────┤\n",
       "│ dropout_5 (<span style=\"color: #0087ff; text-decoration-color: #0087ff\">Dropout</span>)             │ (<span style=\"color: #00d7ff; text-decoration-color: #00d7ff\">None</span>, <span style=\"color: #00af00; text-decoration-color: #00af00\">32</span>)             │             <span style=\"color: #00af00; text-decoration-color: #00af00\">0</span> │\n",
       "├─────────────────────────────────┼────────────────────────┼───────────────┤\n",
       "│ dense_1 (<span style=\"color: #0087ff; text-decoration-color: #0087ff\">Dense</span>)                 │ (<span style=\"color: #00d7ff; text-decoration-color: #00d7ff\">None</span>, <span style=\"color: #00af00; text-decoration-color: #00af00\">1</span>)              │            <span style=\"color: #00af00; text-decoration-color: #00af00\">33</span> │\n",
       "└─────────────────────────────────┴────────────────────────┴───────────────┘\n",
       "</pre>\n"
      ],
      "text/plain": [
       "┏━━━━━━━━━━━━━━━━━━━━━━━━━━━━━━━━━┳━━━━━━━━━━━━━━━━━━━━━━━━┳━━━━━━━━━━━━━━━┓\n",
       "┃\u001b[1m \u001b[0m\u001b[1mLayer (type)                   \u001b[0m\u001b[1m \u001b[0m┃\u001b[1m \u001b[0m\u001b[1mOutput Shape          \u001b[0m\u001b[1m \u001b[0m┃\u001b[1m \u001b[0m\u001b[1m      Param #\u001b[0m\u001b[1m \u001b[0m┃\n",
       "┡━━━━━━━━━━━━━━━━━━━━━━━━━━━━━━━━━╇━━━━━━━━━━━━━━━━━━━━━━━━╇━━━━━━━━━━━━━━━┩\n",
       "│ simple_rnn_3 (\u001b[38;5;33mSimpleRNN\u001b[0m)        │ (\u001b[38;5;45mNone\u001b[0m, \u001b[38;5;34m1\u001b[0m, \u001b[38;5;34m128\u001b[0m)         │        \u001b[38;5;34m18,560\u001b[0m │\n",
       "├─────────────────────────────────┼────────────────────────┼───────────────┤\n",
       "│ dropout_3 (\u001b[38;5;33mDropout\u001b[0m)             │ (\u001b[38;5;45mNone\u001b[0m, \u001b[38;5;34m1\u001b[0m, \u001b[38;5;34m128\u001b[0m)         │             \u001b[38;5;34m0\u001b[0m │\n",
       "├─────────────────────────────────┼────────────────────────┼───────────────┤\n",
       "│ batch_normalization_2           │ (\u001b[38;5;45mNone\u001b[0m, \u001b[38;5;34m1\u001b[0m, \u001b[38;5;34m128\u001b[0m)         │           \u001b[38;5;34m512\u001b[0m │\n",
       "│ (\u001b[38;5;33mBatchNormalization\u001b[0m)            │                        │               │\n",
       "├─────────────────────────────────┼────────────────────────┼───────────────┤\n",
       "│ simple_rnn_4 (\u001b[38;5;33mSimpleRNN\u001b[0m)        │ (\u001b[38;5;45mNone\u001b[0m, \u001b[38;5;34m1\u001b[0m, \u001b[38;5;34m64\u001b[0m)          │        \u001b[38;5;34m12,352\u001b[0m │\n",
       "├─────────────────────────────────┼────────────────────────┼───────────────┤\n",
       "│ dropout_4 (\u001b[38;5;33mDropout\u001b[0m)             │ (\u001b[38;5;45mNone\u001b[0m, \u001b[38;5;34m1\u001b[0m, \u001b[38;5;34m64\u001b[0m)          │             \u001b[38;5;34m0\u001b[0m │\n",
       "├─────────────────────────────────┼────────────────────────┼───────────────┤\n",
       "│ batch_normalization_3           │ (\u001b[38;5;45mNone\u001b[0m, \u001b[38;5;34m1\u001b[0m, \u001b[38;5;34m64\u001b[0m)          │           \u001b[38;5;34m256\u001b[0m │\n",
       "│ (\u001b[38;5;33mBatchNormalization\u001b[0m)            │                        │               │\n",
       "├─────────────────────────────────┼────────────────────────┼───────────────┤\n",
       "│ simple_rnn_5 (\u001b[38;5;33mSimpleRNN\u001b[0m)        │ (\u001b[38;5;45mNone\u001b[0m, \u001b[38;5;34m32\u001b[0m)             │         \u001b[38;5;34m3,104\u001b[0m │\n",
       "├─────────────────────────────────┼────────────────────────┼───────────────┤\n",
       "│ dropout_5 (\u001b[38;5;33mDropout\u001b[0m)             │ (\u001b[38;5;45mNone\u001b[0m, \u001b[38;5;34m32\u001b[0m)             │             \u001b[38;5;34m0\u001b[0m │\n",
       "├─────────────────────────────────┼────────────────────────┼───────────────┤\n",
       "│ dense_1 (\u001b[38;5;33mDense\u001b[0m)                 │ (\u001b[38;5;45mNone\u001b[0m, \u001b[38;5;34m1\u001b[0m)              │            \u001b[38;5;34m33\u001b[0m │\n",
       "└─────────────────────────────────┴────────────────────────┴───────────────┘\n"
      ]
     },
     "metadata": {},
     "output_type": "display_data"
    },
    {
     "data": {
      "text/html": [
       "<pre style=\"white-space:pre;overflow-x:auto;line-height:normal;font-family:Menlo,'DejaVu Sans Mono',consolas,'Courier New',monospace\"><span style=\"font-weight: bold\"> Total params: </span><span style=\"color: #00af00; text-decoration-color: #00af00\">34,817</span> (136.00 KB)\n",
       "</pre>\n"
      ],
      "text/plain": [
       "\u001b[1m Total params: \u001b[0m\u001b[38;5;34m34,817\u001b[0m (136.00 KB)\n"
      ]
     },
     "metadata": {},
     "output_type": "display_data"
    },
    {
     "data": {
      "text/html": [
       "<pre style=\"white-space:pre;overflow-x:auto;line-height:normal;font-family:Menlo,'DejaVu Sans Mono',consolas,'Courier New',monospace\"><span style=\"font-weight: bold\"> Trainable params: </span><span style=\"color: #00af00; text-decoration-color: #00af00\">34,433</span> (134.50 KB)\n",
       "</pre>\n"
      ],
      "text/plain": [
       "\u001b[1m Trainable params: \u001b[0m\u001b[38;5;34m34,433\u001b[0m (134.50 KB)\n"
      ]
     },
     "metadata": {},
     "output_type": "display_data"
    },
    {
     "data": {
      "text/html": [
       "<pre style=\"white-space:pre;overflow-x:auto;line-height:normal;font-family:Menlo,'DejaVu Sans Mono',consolas,'Courier New',monospace\"><span style=\"font-weight: bold\"> Non-trainable params: </span><span style=\"color: #00af00; text-decoration-color: #00af00\">384</span> (1.50 KB)\n",
       "</pre>\n"
      ],
      "text/plain": [
       "\u001b[1m Non-trainable params: \u001b[0m\u001b[38;5;34m384\u001b[0m (1.50 KB)\n"
      ]
     },
     "metadata": {},
     "output_type": "display_data"
    }
   ],
   "source": [
    "X_train_rnn = X_train_scaled.reshape(X_train_scaled.shape[0], 1, X_train_scaled.shape[1])\n",
    "X_valid_rnn = X_valid_scaled.reshape(X_valid_scaled.shape[0], 1, X_valid_scaled.shape[1])\n",
    "\n",
    "model_rnn = Sequential([\n",
    "    SimpleRNN(128, activation='relu', return_sequences=True, kernel_regularizer=l2(0.001), input_shape=(X_train_rnn.shape[1], X_train_rnn.shape[2])),\n",
    "    Dropout(0.3),\n",
    "    BatchNormalization(),\n",
    "    SimpleRNN(64, activation='relu', return_sequences=True, kernel_regularizer=l2(0.001)),\n",
    "    Dropout(0.2),\n",
    "    BatchNormalization(),\n",
    "    SimpleRNN(32, activation='relu', kernel_regularizer=l2(0.001)),\n",
    "    Dropout(0.1),\n",
    "    Dense(1)\n",
    "])\n",
    "\n",
    "model_rnn.summary()\n"
   ]
  },
  {
   "cell_type": "code",
   "execution_count": 32,
   "id": "0a8a1b5e-8704-465f-a152-52ad5994b2c7",
   "metadata": {},
   "outputs": [
    {
     "name": "stdout",
     "output_type": "stream",
     "text": [
      "Epoch 1/50\n",
      "\u001b[1m1730/1730\u001b[0m \u001b[32m━━━━━━━━━━━━━━━━━━━━\u001b[0m\u001b[37m\u001b[0m \u001b[1m8s\u001b[0m 3ms/step - loss: 1.4499 - mae: 0.4268 - val_loss: 0.9659 - val_mae: 0.2560\n",
      "Epoch 2/50\n",
      "\u001b[1m1730/1730\u001b[0m \u001b[32m━━━━━━━━━━━━━━━━━━━━\u001b[0m\u001b[37m\u001b[0m \u001b[1m5s\u001b[0m 3ms/step - loss: 1.1366 - mae: 0.2500 - val_loss: 0.9099 - val_mae: 0.2368\n",
      "Epoch 3/50\n",
      "\u001b[1m1730/1730\u001b[0m \u001b[32m━━━━━━━━━━━━━━━━━━━━\u001b[0m\u001b[37m\u001b[0m \u001b[1m5s\u001b[0m 3ms/step - loss: 1.0875 - mae: 0.2421 - val_loss: 0.8757 - val_mae: 0.2416\n",
      "Epoch 4/50\n",
      "\u001b[1m1730/1730\u001b[0m \u001b[32m━━━━━━━━━━━━━━━━━━━━\u001b[0m\u001b[37m\u001b[0m \u001b[1m5s\u001b[0m 3ms/step - loss: 1.0120 - mae: 0.2402 - val_loss: 0.8630 - val_mae: 0.2357\n",
      "Epoch 5/50\n",
      "\u001b[1m1730/1730\u001b[0m \u001b[32m━━━━━━━━━━━━━━━━━━━━\u001b[0m\u001b[37m\u001b[0m \u001b[1m7s\u001b[0m 4ms/step - loss: 0.9423 - mae: 0.2363 - val_loss: 0.8601 - val_mae: 0.2316\n",
      "Epoch 6/50\n",
      "\u001b[1m1730/1730\u001b[0m \u001b[32m━━━━━━━━━━━━━━━━━━━━\u001b[0m\u001b[37m\u001b[0m \u001b[1m6s\u001b[0m 3ms/step - loss: 1.0170 - mae: 0.2398 - val_loss: 0.8591 - val_mae: 0.2341\n",
      "Epoch 7/50\n",
      "\u001b[1m1730/1730\u001b[0m \u001b[32m━━━━━━━━━━━━━━━━━━━━\u001b[0m\u001b[37m\u001b[0m \u001b[1m6s\u001b[0m 4ms/step - loss: 0.9513 - mae: 0.2370 - val_loss: 0.8589 - val_mae: 0.2345\n",
      "Epoch 8/50\n",
      "\u001b[1m1730/1730\u001b[0m \u001b[32m━━━━━━━━━━━━━━━━━━━━\u001b[0m\u001b[37m\u001b[0m \u001b[1m6s\u001b[0m 4ms/step - loss: 1.0632 - mae: 0.2408 - val_loss: 0.8584 - val_mae: 0.2300\n",
      "Epoch 9/50\n",
      "\u001b[1m1730/1730\u001b[0m \u001b[32m━━━━━━━━━━━━━━━━━━━━\u001b[0m\u001b[37m\u001b[0m \u001b[1m7s\u001b[0m 4ms/step - loss: 1.0577 - mae: 0.2397 - val_loss: 0.8586 - val_mae: 0.2303\n",
      "Epoch 10/50\n",
      "\u001b[1m1730/1730\u001b[0m \u001b[32m━━━━━━━━━━━━━━━━━━━━\u001b[0m\u001b[37m\u001b[0m \u001b[1m6s\u001b[0m 3ms/step - loss: 1.0387 - mae: 0.2385 - val_loss: 0.8584 - val_mae: 0.2359\n",
      "Epoch 11/50\n",
      "\u001b[1m1730/1730\u001b[0m \u001b[32m━━━━━━━━━━━━━━━━━━━━\u001b[0m\u001b[37m\u001b[0m \u001b[1m7s\u001b[0m 4ms/step - loss: 0.9434 - mae: 0.2364 - val_loss: 0.8584 - val_mae: 0.2307\n",
      "Epoch 12/50\n",
      "\u001b[1m1730/1730\u001b[0m \u001b[32m━━━━━━━━━━━━━━━━━━━━\u001b[0m\u001b[37m\u001b[0m \u001b[1m8s\u001b[0m 4ms/step - loss: 1.0008 - mae: 0.2388 - val_loss: 0.8591 - val_mae: 0.2306\n",
      "Epoch 13/50\n",
      "\u001b[1m1730/1730\u001b[0m \u001b[32m━━━━━━━━━━━━━━━━━━━━\u001b[0m\u001b[37m\u001b[0m \u001b[1m7s\u001b[0m 4ms/step - loss: 0.9223 - mae: 0.2353 - val_loss: 0.8589 - val_mae: 0.2306\n",
      "Epoch 14/50\n",
      "\u001b[1m1730/1730\u001b[0m \u001b[32m━━━━━━━━━━━━━━━━━━━━\u001b[0m\u001b[37m\u001b[0m \u001b[1m7s\u001b[0m 4ms/step - loss: 0.9510 - mae: 0.2372 - val_loss: 0.8584 - val_mae: 0.2333\n",
      "Epoch 15/50\n",
      "\u001b[1m1730/1730\u001b[0m \u001b[32m━━━━━━━━━━━━━━━━━━━━\u001b[0m\u001b[37m\u001b[0m \u001b[1m6s\u001b[0m 3ms/step - loss: 0.9081 - mae: 0.2352 - val_loss: 0.8581 - val_mae: 0.2292\n",
      "Epoch 16/50\n",
      "\u001b[1m1730/1730\u001b[0m \u001b[32m━━━━━━━━━━━━━━━━━━━━\u001b[0m\u001b[37m\u001b[0m \u001b[1m6s\u001b[0m 3ms/step - loss: 0.9928 - mae: 0.2388 - val_loss: 0.8581 - val_mae: 0.2299\n",
      "Epoch 17/50\n",
      "\u001b[1m1730/1730\u001b[0m \u001b[32m━━━━━━━━━━━━━━━━━━━━\u001b[0m\u001b[37m\u001b[0m \u001b[1m6s\u001b[0m 3ms/step - loss: 0.9709 - mae: 0.2371 - val_loss: 0.8579 - val_mae: 0.2273\n",
      "Epoch 18/50\n",
      "\u001b[1m1730/1730\u001b[0m \u001b[32m━━━━━━━━━━━━━━━━━━━━\u001b[0m\u001b[37m\u001b[0m \u001b[1m6s\u001b[0m 3ms/step - loss: 0.9174 - mae: 0.2357 - val_loss: 0.8581 - val_mae: 0.2345\n",
      "Epoch 19/50\n",
      "\u001b[1m1730/1730\u001b[0m \u001b[32m━━━━━━━━━━━━━━━━━━━━\u001b[0m\u001b[37m\u001b[0m \u001b[1m7s\u001b[0m 4ms/step - loss: 0.9643 - mae: 0.2376 - val_loss: 0.8589 - val_mae: 0.2341\n",
      "Epoch 20/50\n",
      "\u001b[1m1730/1730\u001b[0m \u001b[32m━━━━━━━━━━━━━━━━━━━━\u001b[0m\u001b[37m\u001b[0m \u001b[1m7s\u001b[0m 4ms/step - loss: 1.0507 - mae: 0.2401 - val_loss: 0.8578 - val_mae: 0.2362\n",
      "Epoch 21/50\n",
      "\u001b[1m1730/1730\u001b[0m \u001b[32m━━━━━━━━━━━━━━━━━━━━\u001b[0m\u001b[37m\u001b[0m \u001b[1m6s\u001b[0m 3ms/step - loss: 0.9667 - mae: 0.2388 - val_loss: 0.8583 - val_mae: 0.2324\n",
      "Epoch 22/50\n",
      "\u001b[1m1730/1730\u001b[0m \u001b[32m━━━━━━━━━━━━━━━━━━━━\u001b[0m\u001b[37m\u001b[0m \u001b[1m6s\u001b[0m 4ms/step - loss: 1.0909 - mae: 0.2425 - val_loss: 0.8573 - val_mae: 0.2301\n",
      "Epoch 23/50\n",
      "\u001b[1m1730/1730\u001b[0m \u001b[32m━━━━━━━━━━━━━━━━━━━━\u001b[0m\u001b[37m\u001b[0m \u001b[1m6s\u001b[0m 3ms/step - loss: 0.9095 - mae: 0.2349 - val_loss: 0.8585 - val_mae: 0.2376\n",
      "Epoch 24/50\n",
      "\u001b[1m1730/1730\u001b[0m \u001b[32m━━━━━━━━━━━━━━━━━━━━\u001b[0m\u001b[37m\u001b[0m \u001b[1m6s\u001b[0m 3ms/step - loss: 0.9783 - mae: 0.2386 - val_loss: 0.8579 - val_mae: 0.2321\n",
      "Epoch 25/50\n",
      "\u001b[1m1730/1730\u001b[0m \u001b[32m━━━━━━━━━━━━━━━━━━━━\u001b[0m\u001b[37m\u001b[0m \u001b[1m6s\u001b[0m 3ms/step - loss: 0.8871 - mae: 0.2353 - val_loss: 0.8579 - val_mae: 0.2327\n",
      "Epoch 26/50\n",
      "\u001b[1m1730/1730\u001b[0m \u001b[32m━━━━━━━━━━━━━━━━━━━━\u001b[0m\u001b[37m\u001b[0m \u001b[1m6s\u001b[0m 3ms/step - loss: 1.1427 - mae: 0.2426 - val_loss: 0.8573 - val_mae: 0.2281\n",
      "Epoch 27/50\n",
      "\u001b[1m1730/1730\u001b[0m \u001b[32m━━━━━━━━━━━━━━━━━━━━\u001b[0m\u001b[37m\u001b[0m \u001b[1m6s\u001b[0m 3ms/step - loss: 0.9120 - mae: 0.2353 - val_loss: 0.8576 - val_mae: 0.2292\n"
     ]
    },
    {
     "data": {
      "image/png": "[encoded data removed]",
      "text/plain": [
       "<Figure size 1000x600 with 1 Axes>"
      ]
     },
     "metadata": {},
     "output_type": "display_data"
    },
    {
     "name": "stdout",
     "output_type": "stream",
     "text": [
      "\u001b[1m3459/3459\u001b[0m \u001b[32m━━━━━━━━━━━━━━━━━━━━\u001b[0m\u001b[37m\u001b[0m \u001b[1m4s\u001b[0m 1ms/step\n",
      "Improved RNN Results:\n",
      "- MAE: 0.3730\n",
      "- MSE: 2.2481\n",
      "- RMSE: 1.4994\n"
     ]
    }
   ],
   "source": [
    "optimizer = tf.keras.optimizers.Adam(learning_rate=0.0005)\n",
    "\n",
    "early_stop = EarlyStopping(monitor='val_loss', patience=5, restore_best_weights=True)\n",
    "\n",
    "model_rnn.compile(optimizer=optimizer, loss='mse', metrics=['mae'])\n",
    "\n",
    "history = model_rnn.fit(\n",
    "    X_train_rnn, y_train_scaled,\n",
    "    epochs=50,\n",
    "    batch_size=256,\n",
    "    verbose=1,\n",
    "    validation_data=(X_valid_rnn, y_valid_scaled),\n",
    "    callbacks=[early_stop]\n",
    ")\n",
    "\n",
    "plt.figure(figsize=(10, 6))\n",
    "plt.plot(history.history['loss'])\n",
    "plt.plot(history.history['val_loss'])\n",
    "plt.title('RNN Training Progress with Regularization')\n",
    "plt.xlabel('Epochs')\n",
    "plt.ylabel('MSE Loss')\n",
    "plt.legend(['Train Loss', 'Validation Loss'])\n",
    "plt.grid(True)\n",
    "plt.show()\n",
    "\n",
    "rnn_preds_scaled = model_rnn.predict(X_valid_rnn).flatten()\n",
    "rnn_preds_original = scaler_y.inverse_transform(rnn_preds_scaled.reshape(-1, 1)).flatten()\n",
    "y_valid_original = scaler_y.inverse_transform(y_valid_scaled.reshape(-1, 1)).flatten()\n",
    "\n",
    "mae = mean_absolute_error(y_valid_original, rnn_preds_original)\n",
    "mse = mean_squared_error(y_valid_original, rnn_preds_original)\n",
    "rmse = np.sqrt(mse)\n",
    "\n",
    "print(f\"Improved RNN Results:\")\n",
    "print(f\"- MAE: {mae:.4f}\")\n",
    "print(f\"- MSE: {mse:.4f}\")\n",
    "print(f\"- RMSE: {rmse:.4f}\")\n",
    "\n",
    "rnn_metrics = {\n",
    "    \"Model\": \"RNN_Improved\",\n",
    "    \"MAE\": float(mae),\n",
    "    \"MSE\": float(mse),\n",
    "    \"RMSE\": float(rmse)\n",
    "}\n",
    "\n",
    "with open(\"rnn_improved_metrics.json\", \"w\") as f:\n",
    "    json.dump(rnn_metrics, f)\n"
   ]
  },
  {
   "cell_type": "markdown",
   "id": "1286738c-8ce5-4172-b8dc-816fa38e6cd4",
   "metadata": {},
   "source": [
    "# ANN"
   ]
  },
  {
   "cell_type": "code",
   "execution_count": 36,
   "id": "43044de7-d6a5-424d-b2f9-419fd60a9364",
   "metadata": {},
   "outputs": [
    {
     "name": "stderr",
     "output_type": "stream",
     "text": [
      "C:\\Users\\User\\anaconda3\\Lib\\site-packages\\keras\\src\\layers\\core\\dense.py:87: UserWarning: Do not pass an `input_shape`/`input_dim` argument to a layer. When using Sequential models, prefer using an `Input(shape)` object as the first layer in the model instead.\n",
      "  super().__init__(activity_regularizer=activity_regularizer, **kwargs)\n"
     ]
    },
    {
     "data": {
      "text/html": [
       "<pre style=\"white-space:pre;overflow-x:auto;line-height:normal;font-family:Menlo,'DejaVu Sans Mono',consolas,'Courier New',monospace\"><span style=\"font-weight: bold\">Model: \"sequential_2\"</span>\n",
       "</pre>\n"
      ],
      "text/plain": [
       "\u001b[1mModel: \"sequential_2\"\u001b[0m\n"
      ]
     },
     "metadata": {},
     "output_type": "display_data"
    },
    {
     "data": {
      "text/html": [
       "<pre style=\"white-space:pre;overflow-x:auto;line-height:normal;font-family:Menlo,'DejaVu Sans Mono',consolas,'Courier New',monospace\">┏━━━━━━━━━━━━━━━━━━━━━━━━━━━━━━━━━┳━━━━━━━━━━━━━━━━━━━━━━━━┳━━━━━━━━━━━━━━━┓\n",
       "┃<span style=\"font-weight: bold\"> Layer (type)                    </span>┃<span style=\"font-weight: bold\"> Output Shape           </span>┃<span style=\"font-weight: bold\">       Param # </span>┃\n",
       "┡━━━━━━━━━━━━━━━━━━━━━━━━━━━━━━━━━╇━━━━━━━━━━━━━━━━━━━━━━━━╇━━━━━━━━━━━━━━━┩\n",
       "│ dense_2 (<span style=\"color: #0087ff; text-decoration-color: #0087ff\">Dense</span>)                 │ (<span style=\"color: #00d7ff; text-decoration-color: #00d7ff\">None</span>, <span style=\"color: #00af00; text-decoration-color: #00af00\">128</span>)            │         <span style=\"color: #00af00; text-decoration-color: #00af00\">2,176</span> │\n",
       "├─────────────────────────────────┼────────────────────────┼───────────────┤\n",
       "│ batch_normalization_4           │ (<span style=\"color: #00d7ff; text-decoration-color: #00d7ff\">None</span>, <span style=\"color: #00af00; text-decoration-color: #00af00\">128</span>)            │           <span style=\"color: #00af00; text-decoration-color: #00af00\">512</span> │\n",
       "│ (<span style=\"color: #0087ff; text-decoration-color: #0087ff\">BatchNormalization</span>)            │                        │               │\n",
       "├─────────────────────────────────┼────────────────────────┼───────────────┤\n",
       "│ dropout_6 (<span style=\"color: #0087ff; text-decoration-color: #0087ff\">Dropout</span>)             │ (<span style=\"color: #00d7ff; text-decoration-color: #00d7ff\">None</span>, <span style=\"color: #00af00; text-decoration-color: #00af00\">128</span>)            │             <span style=\"color: #00af00; text-decoration-color: #00af00\">0</span> │\n",
       "├─────────────────────────────────┼────────────────────────┼───────────────┤\n",
       "│ dense_3 (<span style=\"color: #0087ff; text-decoration-color: #0087ff\">Dense</span>)                 │ (<span style=\"color: #00d7ff; text-decoration-color: #00d7ff\">None</span>, <span style=\"color: #00af00; text-decoration-color: #00af00\">64</span>)             │         <span style=\"color: #00af00; text-decoration-color: #00af00\">8,256</span> │\n",
       "├─────────────────────────────────┼────────────────────────┼───────────────┤\n",
       "│ batch_normalization_5           │ (<span style=\"color: #00d7ff; text-decoration-color: #00d7ff\">None</span>, <span style=\"color: #00af00; text-decoration-color: #00af00\">64</span>)             │           <span style=\"color: #00af00; text-decoration-color: #00af00\">256</span> │\n",
       "│ (<span style=\"color: #0087ff; text-decoration-color: #0087ff\">BatchNormalization</span>)            │                        │               │\n",
       "├─────────────────────────────────┼────────────────────────┼───────────────┤\n",
       "│ dropout_7 (<span style=\"color: #0087ff; text-decoration-color: #0087ff\">Dropout</span>)             │ (<span style=\"color: #00d7ff; text-decoration-color: #00d7ff\">None</span>, <span style=\"color: #00af00; text-decoration-color: #00af00\">64</span>)             │             <span style=\"color: #00af00; text-decoration-color: #00af00\">0</span> │\n",
       "├─────────────────────────────────┼────────────────────────┼───────────────┤\n",
       "│ dense_4 (<span style=\"color: #0087ff; text-decoration-color: #0087ff\">Dense</span>)                 │ (<span style=\"color: #00d7ff; text-decoration-color: #00d7ff\">None</span>, <span style=\"color: #00af00; text-decoration-color: #00af00\">32</span>)             │         <span style=\"color: #00af00; text-decoration-color: #00af00\">2,080</span> │\n",
       "├─────────────────────────────────┼────────────────────────┼───────────────┤\n",
       "│ batch_normalization_6           │ (<span style=\"color: #00d7ff; text-decoration-color: #00d7ff\">None</span>, <span style=\"color: #00af00; text-decoration-color: #00af00\">32</span>)             │           <span style=\"color: #00af00; text-decoration-color: #00af00\">128</span> │\n",
       "│ (<span style=\"color: #0087ff; text-decoration-color: #0087ff\">BatchNormalization</span>)            │                        │               │\n",
       "├─────────────────────────────────┼────────────────────────┼───────────────┤\n",
       "│ dropout_8 (<span style=\"color: #0087ff; text-decoration-color: #0087ff\">Dropout</span>)             │ (<span style=\"color: #00d7ff; text-decoration-color: #00d7ff\">None</span>, <span style=\"color: #00af00; text-decoration-color: #00af00\">32</span>)             │             <span style=\"color: #00af00; text-decoration-color: #00af00\">0</span> │\n",
       "├─────────────────────────────────┼────────────────────────┼───────────────┤\n",
       "│ dense_5 (<span style=\"color: #0087ff; text-decoration-color: #0087ff\">Dense</span>)                 │ (<span style=\"color: #00d7ff; text-decoration-color: #00d7ff\">None</span>, <span style=\"color: #00af00; text-decoration-color: #00af00\">1</span>)              │            <span style=\"color: #00af00; text-decoration-color: #00af00\">33</span> │\n",
       "└─────────────────────────────────┴────────────────────────┴───────────────┘\n",
       "</pre>\n"
      ],
      "text/plain": [
       "┏━━━━━━━━━━━━━━━━━━━━━━━━━━━━━━━━━┳━━━━━━━━━━━━━━━━━━━━━━━━┳━━━━━━━━━━━━━━━┓\n",
       "┃\u001b[1m \u001b[0m\u001b[1mLayer (type)                   \u001b[0m\u001b[1m \u001b[0m┃\u001b[1m \u001b[0m\u001b[1mOutput Shape          \u001b[0m\u001b[1m \u001b[0m┃\u001b[1m \u001b[0m\u001b[1m      Param #\u001b[0m\u001b[1m \u001b[0m┃\n",
       "┡━━━━━━━━━━━━━━━━━━━━━━━━━━━━━━━━━╇━━━━━━━━━━━━━━━━━━━━━━━━╇━━━━━━━━━━━━━━━┩\n",
       "│ dense_2 (\u001b[38;5;33mDense\u001b[0m)                 │ (\u001b[38;5;45mNone\u001b[0m, \u001b[38;5;34m128\u001b[0m)            │         \u001b[38;5;34m2,176\u001b[0m │\n",
       "├─────────────────────────────────┼────────────────────────┼───────────────┤\n",
       "│ batch_normalization_4           │ (\u001b[38;5;45mNone\u001b[0m, \u001b[38;5;34m128\u001b[0m)            │           \u001b[38;5;34m512\u001b[0m │\n",
       "│ (\u001b[38;5;33mBatchNormalization\u001b[0m)            │                        │               │\n",
       "├─────────────────────────────────┼────────────────────────┼───────────────┤\n",
       "│ dropout_6 (\u001b[38;5;33mDropout\u001b[0m)             │ (\u001b[38;5;45mNone\u001b[0m, \u001b[38;5;34m128\u001b[0m)            │             \u001b[38;5;34m0\u001b[0m │\n",
       "├─────────────────────────────────┼────────────────────────┼───────────────┤\n",
       "│ dense_3 (\u001b[38;5;33mDense\u001b[0m)                 │ (\u001b[38;5;45mNone\u001b[0m, \u001b[38;5;34m64\u001b[0m)             │         \u001b[38;5;34m8,256\u001b[0m │\n",
       "├─────────────────────────────────┼────────────────────────┼───────────────┤\n",
       "│ batch_normalization_5           │ (\u001b[38;5;45mNone\u001b[0m, \u001b[38;5;34m64\u001b[0m)             │           \u001b[38;5;34m256\u001b[0m │\n",
       "│ (\u001b[38;5;33mBatchNormalization\u001b[0m)            │                        │               │\n",
       "├─────────────────────────────────┼────────────────────────┼───────────────┤\n",
       "│ dropout_7 (\u001b[38;5;33mDropout\u001b[0m)             │ (\u001b[38;5;45mNone\u001b[0m, \u001b[38;5;34m64\u001b[0m)             │             \u001b[38;5;34m0\u001b[0m │\n",
       "├─────────────────────────────────┼────────────────────────┼───────────────┤\n",
       "│ dense_4 (\u001b[38;5;33mDense\u001b[0m)                 │ (\u001b[38;5;45mNone\u001b[0m, \u001b[38;5;34m32\u001b[0m)             │         \u001b[38;5;34m2,080\u001b[0m │\n",
       "├─────────────────────────────────┼────────────────────────┼───────────────┤\n",
       "│ batch_normalization_6           │ (\u001b[38;5;45mNone\u001b[0m, \u001b[38;5;34m32\u001b[0m)             │           \u001b[38;5;34m128\u001b[0m │\n",
       "│ (\u001b[38;5;33mBatchNormalization\u001b[0m)            │                        │               │\n",
       "├─────────────────────────────────┼────────────────────────┼───────────────┤\n",
       "│ dropout_8 (\u001b[38;5;33mDropout\u001b[0m)             │ (\u001b[38;5;45mNone\u001b[0m, \u001b[38;5;34m32\u001b[0m)             │             \u001b[38;5;34m0\u001b[0m │\n",
       "├─────────────────────────────────┼────────────────────────┼───────────────┤\n",
       "│ dense_5 (\u001b[38;5;33mDense\u001b[0m)                 │ (\u001b[38;5;45mNone\u001b[0m, \u001b[38;5;34m1\u001b[0m)              │            \u001b[38;5;34m33\u001b[0m │\n",
       "└─────────────────────────────────┴────────────────────────┴───────────────┘\n"
      ]
     },
     "metadata": {},
     "output_type": "display_data"
    },
    {
     "data": {
      "text/html": [
       "<pre style=\"white-space:pre;overflow-x:auto;line-height:normal;font-family:Menlo,'DejaVu Sans Mono',consolas,'Courier New',monospace\"><span style=\"font-weight: bold\"> Total params: </span><span style=\"color: #00af00; text-decoration-color: #00af00\">13,441</span> (52.50 KB)\n",
       "</pre>\n"
      ],
      "text/plain": [
       "\u001b[1m Total params: \u001b[0m\u001b[38;5;34m13,441\u001b[0m (52.50 KB)\n"
      ]
     },
     "metadata": {},
     "output_type": "display_data"
    },
    {
     "data": {
      "text/html": [
       "<pre style=\"white-space:pre;overflow-x:auto;line-height:normal;font-family:Menlo,'DejaVu Sans Mono',consolas,'Courier New',monospace\"><span style=\"font-weight: bold\"> Trainable params: </span><span style=\"color: #00af00; text-decoration-color: #00af00\">12,993</span> (50.75 KB)\n",
       "</pre>\n"
      ],
      "text/plain": [
       "\u001b[1m Trainable params: \u001b[0m\u001b[38;5;34m12,993\u001b[0m (50.75 KB)\n"
      ]
     },
     "metadata": {},
     "output_type": "display_data"
    },
    {
     "data": {
      "text/html": [
       "<pre style=\"white-space:pre;overflow-x:auto;line-height:normal;font-family:Menlo,'DejaVu Sans Mono',consolas,'Courier New',monospace\"><span style=\"font-weight: bold\"> Non-trainable params: </span><span style=\"color: #00af00; text-decoration-color: #00af00\">448</span> (1.75 KB)\n",
       "</pre>\n"
      ],
      "text/plain": [
       "\u001b[1m Non-trainable params: \u001b[0m\u001b[38;5;34m448\u001b[0m (1.75 KB)\n"
      ]
     },
     "metadata": {},
     "output_type": "display_data"
    }
   ],
   "source": [
    "import numpy as np\n",
    "import pandas as pd\n",
    "import json\n",
    "import matplotlib.pyplot as plt\n",
    "from sklearn.model_selection import train_test_split\n",
    "from sklearn.preprocessing import StandardScaler\n",
    "from sklearn.metrics import mean_absolute_error, mean_squared_error\n",
    "import tensorflow as tf\n",
    "from tensorflow.keras.models import Sequential\n",
    "from tensorflow.keras.layers import Dense, Dropout, BatchNormalization\n",
    "from tensorflow.keras.regularizers import l2\n",
    "from tensorflow.keras.callbacks import EarlyStopping\n",
    "\n",
    "\n",
    "model_ann = Sequential([\n",
    "    Dense(128, activation='relu', kernel_regularizer=l2(0.001), input_shape=(X_train_scaled.shape[1],)),\n",
    "    BatchNormalization(),\n",
    "    Dropout(0.3),\n",
    "    Dense(64, activation='relu', kernel_regularizer=l2(0.001)),\n",
    "    BatchNormalization(),\n",
    "    Dropout(0.2),\n",
    "    Dense(32, activation='relu', kernel_regularizer=l2(0.001)),\n",
    "    BatchNormalization(),\n",
    "    Dropout(0.1),\n",
    "    Dense(1)\n",
    "])\n",
    "\n",
    "\n",
    "model_ann.summary()\n",
    "\n"
   ]
  },
  {
   "cell_type": "code",
   "execution_count": 38,
   "id": "1416f146-d9a6-40ca-88d5-367f5ab0a4f6",
   "metadata": {},
   "outputs": [
    {
     "name": "stdout",
     "output_type": "stream",
     "text": [
      "Epoch 1/50\n",
      "\u001b[1m1730/1730\u001b[0m \u001b[32m━━━━━━━━━━━━━━━━━━━━\u001b[0m\u001b[37m\u001b[0m \u001b[1m6s\u001b[0m 2ms/step - loss: 1.6075 - mae: 0.5223 - val_loss: 0.9841 - val_mae: 0.2263\n",
      "Epoch 2/50\n",
      "\u001b[1m1730/1730\u001b[0m \u001b[32m━━━━━━━━━━━━━━━━━━━━\u001b[0m\u001b[37m\u001b[0m \u001b[1m4s\u001b[0m 2ms/step - loss: 1.1833 - mae: 0.2573 - val_loss: 0.9309 - val_mae: 0.2323\n",
      "Epoch 3/50\n",
      "\u001b[1m1730/1730\u001b[0m \u001b[32m━━━━━━━━━━━━━━━━━━━━\u001b[0m\u001b[37m\u001b[0m \u001b[1m4s\u001b[0m 2ms/step - loss: 0.9726 - mae: 0.2388 - val_loss: 0.8838 - val_mae: 0.2316\n",
      "Epoch 4/50\n",
      "\u001b[1m1730/1730\u001b[0m \u001b[32m━━━━━━━━━━━━━━━━━━━━\u001b[0m\u001b[37m\u001b[0m \u001b[1m4s\u001b[0m 2ms/step - loss: 0.9383 - mae: 0.2368 - val_loss: 0.8653 - val_mae: 0.2382\n",
      "Epoch 5/50\n",
      "\u001b[1m1730/1730\u001b[0m \u001b[32m━━━━━━━━━━━━━━━━━━━━\u001b[0m\u001b[37m\u001b[0m \u001b[1m4s\u001b[0m 2ms/step - loss: 0.9750 - mae: 0.2395 - val_loss: 0.8613 - val_mae: 0.2345\n",
      "Epoch 6/50\n",
      "\u001b[1m1730/1730\u001b[0m \u001b[32m━━━━━━━━━━━━━━━━━━━━\u001b[0m\u001b[37m\u001b[0m \u001b[1m4s\u001b[0m 2ms/step - loss: 1.0018 - mae: 0.2399 - val_loss: 0.8595 - val_mae: 0.2302\n",
      "Epoch 7/50\n",
      "\u001b[1m1730/1730\u001b[0m \u001b[32m━━━━━━━━━━━━━━━━━━━━\u001b[0m\u001b[37m\u001b[0m \u001b[1m5s\u001b[0m 3ms/step - loss: 0.9623 - mae: 0.2377 - val_loss: 0.8599 - val_mae: 0.2325\n",
      "Epoch 8/50\n",
      "\u001b[1m1730/1730\u001b[0m \u001b[32m━━━━━━━━━━━━━━━━━━━━\u001b[0m\u001b[37m\u001b[0m \u001b[1m4s\u001b[0m 2ms/step - loss: 0.9076 - mae: 0.2365 - val_loss: 0.8595 - val_mae: 0.2327\n",
      "Epoch 9/50\n",
      "\u001b[1m1730/1730\u001b[0m \u001b[32m━━━━━━━━━━━━━━━━━━━━\u001b[0m\u001b[37m\u001b[0m \u001b[1m4s\u001b[0m 2ms/step - loss: 1.0966 - mae: 0.2418 - val_loss: 0.8600 - val_mae: 0.2318\n",
      "Epoch 10/50\n",
      "\u001b[1m1730/1730\u001b[0m \u001b[32m━━━━━━━━━━━━━━━━━━━━\u001b[0m\u001b[37m\u001b[0m \u001b[1m4s\u001b[0m 2ms/step - loss: 0.9701 - mae: 0.2384 - val_loss: 0.8591 - val_mae: 0.2354\n",
      "Epoch 11/50\n",
      "\u001b[1m1730/1730\u001b[0m \u001b[32m━━━━━━━━━━━━━━━━━━━━\u001b[0m\u001b[37m\u001b[0m \u001b[1m4s\u001b[0m 2ms/step - loss: 0.9495 - mae: 0.2376 - val_loss: 0.8586 - val_mae: 0.2358\n",
      "Epoch 12/50\n",
      "\u001b[1m1730/1730\u001b[0m \u001b[32m━━━━━━━━━━━━━━━━━━━━\u001b[0m\u001b[37m\u001b[0m \u001b[1m4s\u001b[0m 2ms/step - loss: 0.9247 - mae: 0.2355 - val_loss: 0.8592 - val_mae: 0.2318\n",
      "Epoch 13/50\n",
      "\u001b[1m1730/1730\u001b[0m \u001b[32m━━━━━━━━━━━━━━━━━━━━\u001b[0m\u001b[37m\u001b[0m \u001b[1m4s\u001b[0m 2ms/step - loss: 0.9108 - mae: 0.2366 - val_loss: 0.8588 - val_mae: 0.2336\n",
      "Epoch 14/50\n",
      "\u001b[1m1730/1730\u001b[0m \u001b[32m━━━━━━━━━━━━━━━━━━━━\u001b[0m\u001b[37m\u001b[0m \u001b[1m4s\u001b[0m 3ms/step - loss: 0.9027 - mae: 0.2359 - val_loss: 0.8589 - val_mae: 0.2331\n",
      "Epoch 15/50\n",
      "\u001b[1m1730/1730\u001b[0m \u001b[32m━━━━━━━━━━━━━━━━━━━━\u001b[0m\u001b[37m\u001b[0m \u001b[1m4s\u001b[0m 2ms/step - loss: 1.0274 - mae: 0.2400 - val_loss: 0.8584 - val_mae: 0.2321\n",
      "Epoch 16/50\n",
      "\u001b[1m1730/1730\u001b[0m \u001b[32m━━━━━━━━━━━━━━━━━━━━\u001b[0m\u001b[37m\u001b[0m \u001b[1m4s\u001b[0m 2ms/step - loss: 1.0886 - mae: 0.2417 - val_loss: 0.8590 - val_mae: 0.2330\n",
      "Epoch 17/50\n",
      "\u001b[1m1730/1730\u001b[0m \u001b[32m━━━━━━━━━━━━━━━━━━━━\u001b[0m\u001b[37m\u001b[0m \u001b[1m4s\u001b[0m 2ms/step - loss: 1.0081 - mae: 0.2398 - val_loss: 0.8584 - val_mae: 0.2299\n",
      "Epoch 18/50\n",
      "\u001b[1m1730/1730\u001b[0m \u001b[32m━━━━━━━━━━━━━━━━━━━━\u001b[0m\u001b[37m\u001b[0m \u001b[1m4s\u001b[0m 3ms/step - loss: 0.8975 - mae: 0.2353 - val_loss: 0.8587 - val_mae: 0.2337\n",
      "Epoch 19/50\n",
      "\u001b[1m1730/1730\u001b[0m \u001b[32m━━━━━━━━━━━━━━━━━━━━\u001b[0m\u001b[37m\u001b[0m \u001b[1m4s\u001b[0m 2ms/step - loss: 0.9598 - mae: 0.2376 - val_loss: 0.8584 - val_mae: 0.2320\n",
      "Epoch 20/50\n",
      "\u001b[1m1730/1730\u001b[0m \u001b[32m━━━━━━━━━━━━━━━━━━━━\u001b[0m\u001b[37m\u001b[0m \u001b[1m4s\u001b[0m 2ms/step - loss: 0.9029 - mae: 0.2346 - val_loss: 0.8578 - val_mae: 0.2328\n",
      "Epoch 21/50\n",
      "\u001b[1m1730/1730\u001b[0m \u001b[32m━━━━━━━━━━━━━━━━━━━━\u001b[0m\u001b[37m\u001b[0m \u001b[1m4s\u001b[0m 2ms/step - loss: 1.0373 - mae: 0.2396 - val_loss: 0.8581 - val_mae: 0.2331\n",
      "Epoch 22/50\n",
      "\u001b[1m1730/1730\u001b[0m \u001b[32m━━━━━━━━━━━━━━━━━━━━\u001b[0m\u001b[37m\u001b[0m \u001b[1m4s\u001b[0m 2ms/step - loss: 0.9248 - mae: 0.2354 - val_loss: 0.8580 - val_mae: 0.2295\n",
      "Epoch 23/50\n",
      "\u001b[1m1730/1730\u001b[0m \u001b[32m━━━━━━━━━━━━━━━━━━━━\u001b[0m\u001b[37m\u001b[0m \u001b[1m4s\u001b[0m 2ms/step - loss: 1.0452 - mae: 0.2398 - val_loss: 0.8578 - val_mae: 0.2333\n",
      "Epoch 24/50\n",
      "\u001b[1m1730/1730\u001b[0m \u001b[32m━━━━━━━━━━━━━━━━━━━━\u001b[0m\u001b[37m\u001b[0m \u001b[1m4s\u001b[0m 2ms/step - loss: 1.0117 - mae: 0.2395 - val_loss: 0.8579 - val_mae: 0.2301\n",
      "Epoch 25/50\n",
      "\u001b[1m1730/1730\u001b[0m \u001b[32m━━━━━━━━━━━━━━━━━━━━\u001b[0m\u001b[37m\u001b[0m \u001b[1m4s\u001b[0m 2ms/step - loss: 1.0799 - mae: 0.2406 - val_loss: 0.8578 - val_mae: 0.2324\n",
      "Epoch 26/50\n",
      "\u001b[1m1730/1730\u001b[0m \u001b[32m━━━━━━━━━━━━━━━━━━━━\u001b[0m\u001b[37m\u001b[0m \u001b[1m4s\u001b[0m 2ms/step - loss: 0.9998 - mae: 0.2391 - val_loss: 0.8584 - val_mae: 0.2398\n",
      "Epoch 27/50\n",
      "\u001b[1m1730/1730\u001b[0m \u001b[32m━━━━━━━━━━━━━━━━━━━━\u001b[0m\u001b[37m\u001b[0m \u001b[1m4s\u001b[0m 2ms/step - loss: 0.9287 - mae: 0.2376 - val_loss: 0.8578 - val_mae: 0.2338\n",
      "Epoch 28/50\n",
      "\u001b[1m1730/1730\u001b[0m \u001b[32m━━━━━━━━━━━━━━━━━━━━\u001b[0m\u001b[37m\u001b[0m \u001b[1m4s\u001b[0m 2ms/step - loss: 0.9846 - mae: 0.2376 - val_loss: 0.8579 - val_mae: 0.2336\n",
      "Epoch 29/50\n",
      "\u001b[1m1730/1730\u001b[0m \u001b[32m━━━━━━━━━━━━━━━━━━━━\u001b[0m\u001b[37m\u001b[0m \u001b[1m4s\u001b[0m 2ms/step - loss: 1.0520 - mae: 0.2409 - val_loss: 0.8598 - val_mae: 0.2397\n",
      "Epoch 30/50\n",
      "\u001b[1m1730/1730\u001b[0m \u001b[32m━━━━━━━━━━━━━━━━━━━━\u001b[0m\u001b[37m\u001b[0m \u001b[1m5s\u001b[0m 3ms/step - loss: 1.1124 - mae: 0.2441 - val_loss: 0.8585 - val_mae: 0.2277\n",
      "Epoch 31/50\n",
      "\u001b[1m1730/1730\u001b[0m \u001b[32m━━━━━━━━━━━━━━━━━━━━\u001b[0m\u001b[37m\u001b[0m \u001b[1m4s\u001b[0m 2ms/step - loss: 1.1338 - mae: 0.2421 - val_loss: 0.8578 - val_mae: 0.2350\n",
      "Epoch 32/50\n",
      "\u001b[1m1730/1730\u001b[0m \u001b[32m━━━━━━━━━━━━━━━━━━━━\u001b[0m\u001b[37m\u001b[0m \u001b[1m4s\u001b[0m 2ms/step - loss: 1.0480 - mae: 0.2411 - val_loss: 0.8577 - val_mae: 0.2345\n",
      "Epoch 33/50\n",
      "\u001b[1m1730/1730\u001b[0m \u001b[32m━━━━━━━━━━━━━━━━━━━━\u001b[0m\u001b[37m\u001b[0m \u001b[1m4s\u001b[0m 2ms/step - loss: 1.0062 - mae: 0.2390 - val_loss: 0.8577 - val_mae: 0.2313\n",
      "Epoch 34/50\n",
      "\u001b[1m1730/1730\u001b[0m \u001b[32m━━━━━━━━━━━━━━━━━━━━\u001b[0m\u001b[37m\u001b[0m \u001b[1m5s\u001b[0m 3ms/step - loss: 0.8942 - mae: 0.2344 - val_loss: 0.8584 - val_mae: 0.2390\n",
      "Epoch 35/50\n",
      "\u001b[1m1730/1730\u001b[0m \u001b[32m━━━━━━━━━━━━━━━━━━━━\u001b[0m\u001b[37m\u001b[0m \u001b[1m5s\u001b[0m 3ms/step - loss: 1.0146 - mae: 0.2395 - val_loss: 0.8571 - val_mae: 0.2314\n",
      "Epoch 36/50\n",
      "\u001b[1m1730/1730\u001b[0m \u001b[32m━━━━━━━━━━━━━━━━━━━━\u001b[0m\u001b[37m\u001b[0m \u001b[1m4s\u001b[0m 2ms/step - loss: 0.9821 - mae: 0.2386 - val_loss: 0.8580 - val_mae: 0.2315\n",
      "Epoch 37/50\n",
      "\u001b[1m1730/1730\u001b[0m \u001b[32m━━━━━━━━━━━━━━━━━━━━\u001b[0m\u001b[37m\u001b[0m \u001b[1m4s\u001b[0m 3ms/step - loss: 0.9956 - mae: 0.2394 - val_loss: 0.8575 - val_mae: 0.2316\n",
      "Epoch 38/50\n",
      "\u001b[1m1730/1730\u001b[0m \u001b[32m━━━━━━━━━━━━━━━━━━━━\u001b[0m\u001b[37m\u001b[0m \u001b[1m4s\u001b[0m 2ms/step - loss: 1.1070 - mae: 0.2422 - val_loss: 0.8579 - val_mae: 0.2308\n",
      "Epoch 39/50\n",
      "\u001b[1m1730/1730\u001b[0m \u001b[32m━━━━━━━━━━━━━━━━━━━━\u001b[0m\u001b[37m\u001b[0m \u001b[1m5s\u001b[0m 3ms/step - loss: 0.9928 - mae: 0.2380 - val_loss: 0.8579 - val_mae: 0.2315\n",
      "Epoch 40/50\n",
      "\u001b[1m1730/1730\u001b[0m \u001b[32m━━━━━━━━━━━━━━━━━━━━\u001b[0m\u001b[37m\u001b[0m \u001b[1m5s\u001b[0m 3ms/step - loss: 0.9191 - mae: 0.2368 - val_loss: 0.8579 - val_mae: 0.2332\n"
     ]
    },
    {
     "data": {
      "image/png": "[encoded data removed]",
      "text/plain": [
       "<Figure size 1000x600 with 1 Axes>"
      ]
     },
     "metadata": {},
     "output_type": "display_data"
    },
    {
     "name": "stdout",
     "output_type": "stream",
     "text": [
      "\u001b[1m3459/3459\u001b[0m \u001b[32m━━━━━━━━━━━━━━━━━━━━\u001b[0m\u001b[37m\u001b[0m \u001b[1m3s\u001b[0m 699us/step\n",
      "Improved ANN Results:\n",
      "- MAE: 0.3752\n",
      "- MSE: 2.2477\n",
      "- RMSE: 1.4992\n"
     ]
    }
   ],
   "source": [
    "optimizer = tf.keras.optimizers.Adam(learning_rate=0.0005)\n",
    "\n",
    "early_stop = EarlyStopping(monitor='val_loss', patience=5, restore_best_weights=True)\n",
    "\n",
    "model_ann.compile(optimizer=optimizer, loss='mse', metrics=['mae'])\n",
    "\n",
    "history = model_ann.fit(\n",
    "    X_train_scaled, y_train_scaled,\n",
    "    epochs=50,\n",
    "    batch_size=256,\n",
    "    verbose=1,\n",
    "    validation_data=(X_valid_scaled, y_valid_scaled),\n",
    "    callbacks=[early_stop]\n",
    ")\n",
    "\n",
    "plt.figure(figsize=(10, 6))\n",
    "plt.plot(history.history['loss'])\n",
    "plt.plot(history.history['val_loss'])\n",
    "plt.title('ANN Training Progress with Regularization')\n",
    "plt.xlabel('Epochs')\n",
    "plt.ylabel('MSE Loss')\n",
    "plt.legend(['Train Loss', 'Validation Loss'])\n",
    "plt.grid(True)\n",
    "plt.show()\n",
    "\n",
    "ann_preds_scaled = model_ann.predict(X_valid_scaled).flatten()\n",
    "ann_preds_original = scaler_y.inverse_transform(ann_preds_scaled.reshape(-1, 1)).flatten()\n",
    "y_valid_original = scaler_y.inverse_transform(y_valid_scaled.reshape(-1, 1)).flatten()\n",
    "\n",
    "mae = mean_absolute_error(y_valid_original, ann_preds_original)\n",
    "mse = mean_squared_error(y_valid_original, ann_preds_original)\n",
    "rmse = np.sqrt(mse)\n",
    "\n",
    "print(f\"Improved ANN Results:\")\n",
    "print(f\"- MAE: {mae:.4f}\")\n",
    "print(f\"- MSE: {mse:.4f}\")\n",
    "print(f\"- RMSE: {rmse:.4f}\")\n",
    "\n",
    "ann_metrics = {\n",
    "    \"Model\": \"ANN_Improved\",\n",
    "    \"MAE\": float(mae),\n",
    "    \"MSE\": float(mse),\n",
    "    \"RMSE\": float(rmse)\n",
    "}\n",
    "\n",
    "with open(\"ann_improved_metrics.json\", \"w\") as f:\n",
    "    json.dump(ann_metrics, f)\n"
   ]
  },
  {
   "cell_type": "code",
   "execution_count": null,
   "id": "f3fffa21-e776-47de-b059-99e0248e7a43",
   "metadata": {},
   "outputs": [],
   "source": []
  },
  {
   "cell_type": "markdown",
   "id": "bade99ef-d08e-4696-a206-431f338b87b3",
   "metadata": {},
   "source": [
    "# GRU"
   ]
  },
  {
   "cell_type": "code",
   "execution_count": 43,
   "id": "445c5935-d75a-4cd4-a540-b2c9cc0d0c9d",
   "metadata": {},
   "outputs": [
    {
     "name": "stderr",
     "output_type": "stream",
     "text": [
      "C:\\Users\\User\\anaconda3\\Lib\\site-packages\\keras\\src\\layers\\rnn\\rnn.py:204: UserWarning: Do not pass an `input_shape`/`input_dim` argument to a layer. When using Sequential models, prefer using an `Input(shape)` object as the first layer in the model instead.\n",
      "  super().__init__(**kwargs)\n"
     ]
    },
    {
     "data": {
      "text/html": [
       "<pre style=\"white-space:pre;overflow-x:auto;line-height:normal;font-family:Menlo,'DejaVu Sans Mono',consolas,'Courier New',monospace\"><span style=\"font-weight: bold\">Model: \"sequential_3\"</span>\n",
       "</pre>\n"
      ],
      "text/plain": [
       "\u001b[1mModel: \"sequential_3\"\u001b[0m\n"
      ]
     },
     "metadata": {},
     "output_type": "display_data"
    },
    {
     "data": {
      "text/html": [
       "<pre style=\"white-space:pre;overflow-x:auto;line-height:normal;font-family:Menlo,'DejaVu Sans Mono',consolas,'Courier New',monospace\">┏━━━━━━━━━━━━━━━━━━━━━━━━━━━━━━━━━┳━━━━━━━━━━━━━━━━━━━━━━━━┳━━━━━━━━━━━━━━━┓\n",
       "┃<span style=\"font-weight: bold\"> Layer (type)                    </span>┃<span style=\"font-weight: bold\"> Output Shape           </span>┃<span style=\"font-weight: bold\">       Param # </span>┃\n",
       "┡━━━━━━━━━━━━━━━━━━━━━━━━━━━━━━━━━╇━━━━━━━━━━━━━━━━━━━━━━━━╇━━━━━━━━━━━━━━━┩\n",
       "│ gru (<span style=\"color: #0087ff; text-decoration-color: #0087ff\">GRU</span>)                       │ (<span style=\"color: #00d7ff; text-decoration-color: #00d7ff\">None</span>, <span style=\"color: #00af00; text-decoration-color: #00af00\">1</span>, <span style=\"color: #00af00; text-decoration-color: #00af00\">128</span>)         │        <span style=\"color: #00af00; text-decoration-color: #00af00\">56,064</span> │\n",
       "├─────────────────────────────────┼────────────────────────┼───────────────┤\n",
       "│ dropout_9 (<span style=\"color: #0087ff; text-decoration-color: #0087ff\">Dropout</span>)             │ (<span style=\"color: #00d7ff; text-decoration-color: #00d7ff\">None</span>, <span style=\"color: #00af00; text-decoration-color: #00af00\">1</span>, <span style=\"color: #00af00; text-decoration-color: #00af00\">128</span>)         │             <span style=\"color: #00af00; text-decoration-color: #00af00\">0</span> │\n",
       "├─────────────────────────────────┼────────────────────────┼───────────────┤\n",
       "│ batch_normalization_7           │ (<span style=\"color: #00d7ff; text-decoration-color: #00d7ff\">None</span>, <span style=\"color: #00af00; text-decoration-color: #00af00\">1</span>, <span style=\"color: #00af00; text-decoration-color: #00af00\">128</span>)         │           <span style=\"color: #00af00; text-decoration-color: #00af00\">512</span> │\n",
       "│ (<span style=\"color: #0087ff; text-decoration-color: #0087ff\">BatchNormalization</span>)            │                        │               │\n",
       "├─────────────────────────────────┼────────────────────────┼───────────────┤\n",
       "│ gru_1 (<span style=\"color: #0087ff; text-decoration-color: #0087ff\">GRU</span>)                     │ (<span style=\"color: #00d7ff; text-decoration-color: #00d7ff\">None</span>, <span style=\"color: #00af00; text-decoration-color: #00af00\">1</span>, <span style=\"color: #00af00; text-decoration-color: #00af00\">64</span>)          │        <span style=\"color: #00af00; text-decoration-color: #00af00\">37,248</span> │\n",
       "├─────────────────────────────────┼────────────────────────┼───────────────┤\n",
       "│ dropout_10 (<span style=\"color: #0087ff; text-decoration-color: #0087ff\">Dropout</span>)            │ (<span style=\"color: #00d7ff; text-decoration-color: #00d7ff\">None</span>, <span style=\"color: #00af00; text-decoration-color: #00af00\">1</span>, <span style=\"color: #00af00; text-decoration-color: #00af00\">64</span>)          │             <span style=\"color: #00af00; text-decoration-color: #00af00\">0</span> │\n",
       "├─────────────────────────────────┼────────────────────────┼───────────────┤\n",
       "│ batch_normalization_8           │ (<span style=\"color: #00d7ff; text-decoration-color: #00d7ff\">None</span>, <span style=\"color: #00af00; text-decoration-color: #00af00\">1</span>, <span style=\"color: #00af00; text-decoration-color: #00af00\">64</span>)          │           <span style=\"color: #00af00; text-decoration-color: #00af00\">256</span> │\n",
       "│ (<span style=\"color: #0087ff; text-decoration-color: #0087ff\">BatchNormalization</span>)            │                        │               │\n",
       "├─────────────────────────────────┼────────────────────────┼───────────────┤\n",
       "│ gru_2 (<span style=\"color: #0087ff; text-decoration-color: #0087ff\">GRU</span>)                     │ (<span style=\"color: #00d7ff; text-decoration-color: #00d7ff\">None</span>, <span style=\"color: #00af00; text-decoration-color: #00af00\">32</span>)             │         <span style=\"color: #00af00; text-decoration-color: #00af00\">9,408</span> │\n",
       "├─────────────────────────────────┼────────────────────────┼───────────────┤\n",
       "│ dropout_11 (<span style=\"color: #0087ff; text-decoration-color: #0087ff\">Dropout</span>)            │ (<span style=\"color: #00d7ff; text-decoration-color: #00d7ff\">None</span>, <span style=\"color: #00af00; text-decoration-color: #00af00\">32</span>)             │             <span style=\"color: #00af00; text-decoration-color: #00af00\">0</span> │\n",
       "├─────────────────────────────────┼────────────────────────┼───────────────┤\n",
       "│ dense_6 (<span style=\"color: #0087ff; text-decoration-color: #0087ff\">Dense</span>)                 │ (<span style=\"color: #00d7ff; text-decoration-color: #00d7ff\">None</span>, <span style=\"color: #00af00; text-decoration-color: #00af00\">1</span>)              │            <span style=\"color: #00af00; text-decoration-color: #00af00\">33</span> │\n",
       "└─────────────────────────────────┴────────────────────────┴───────────────┘\n",
       "</pre>\n"
      ],
      "text/plain": [
       "┏━━━━━━━━━━━━━━━━━━━━━━━━━━━━━━━━━┳━━━━━━━━━━━━━━━━━━━━━━━━┳━━━━━━━━━━━━━━━┓\n",
       "┃\u001b[1m \u001b[0m\u001b[1mLayer (type)                   \u001b[0m\u001b[1m \u001b[0m┃\u001b[1m \u001b[0m\u001b[1mOutput Shape          \u001b[0m\u001b[1m \u001b[0m┃\u001b[1m \u001b[0m\u001b[1m      Param #\u001b[0m\u001b[1m \u001b[0m┃\n",
       "┡━━━━━━━━━━━━━━━━━━━━━━━━━━━━━━━━━╇━━━━━━━━━━━━━━━━━━━━━━━━╇━━━━━━━━━━━━━━━┩\n",
       "│ gru (\u001b[38;5;33mGRU\u001b[0m)                       │ (\u001b[38;5;45mNone\u001b[0m, \u001b[38;5;34m1\u001b[0m, \u001b[38;5;34m128\u001b[0m)         │        \u001b[38;5;34m56,064\u001b[0m │\n",
       "├─────────────────────────────────┼────────────────────────┼───────────────┤\n",
       "│ dropout_9 (\u001b[38;5;33mDropout\u001b[0m)             │ (\u001b[38;5;45mNone\u001b[0m, \u001b[38;5;34m1\u001b[0m, \u001b[38;5;34m128\u001b[0m)         │             \u001b[38;5;34m0\u001b[0m │\n",
       "├─────────────────────────────────┼────────────────────────┼───────────────┤\n",
       "│ batch_normalization_7           │ (\u001b[38;5;45mNone\u001b[0m, \u001b[38;5;34m1\u001b[0m, \u001b[38;5;34m128\u001b[0m)         │           \u001b[38;5;34m512\u001b[0m │\n",
       "│ (\u001b[38;5;33mBatchNormalization\u001b[0m)            │                        │               │\n",
       "├─────────────────────────────────┼────────────────────────┼───────────────┤\n",
       "│ gru_1 (\u001b[38;5;33mGRU\u001b[0m)                     │ (\u001b[38;5;45mNone\u001b[0m, \u001b[38;5;34m1\u001b[0m, \u001b[38;5;34m64\u001b[0m)          │        \u001b[38;5;34m37,248\u001b[0m │\n",
       "├─────────────────────────────────┼────────────────────────┼───────────────┤\n",
       "│ dropout_10 (\u001b[38;5;33mDropout\u001b[0m)            │ (\u001b[38;5;45mNone\u001b[0m, \u001b[38;5;34m1\u001b[0m, \u001b[38;5;34m64\u001b[0m)          │             \u001b[38;5;34m0\u001b[0m │\n",
       "├─────────────────────────────────┼────────────────────────┼───────────────┤\n",
       "│ batch_normalization_8           │ (\u001b[38;5;45mNone\u001b[0m, \u001b[38;5;34m1\u001b[0m, \u001b[38;5;34m64\u001b[0m)          │           \u001b[38;5;34m256\u001b[0m │\n",
       "│ (\u001b[38;5;33mBatchNormalization\u001b[0m)            │                        │               │\n",
       "├─────────────────────────────────┼────────────────────────┼───────────────┤\n",
       "│ gru_2 (\u001b[38;5;33mGRU\u001b[0m)                     │ (\u001b[38;5;45mNone\u001b[0m, \u001b[38;5;34m32\u001b[0m)             │         \u001b[38;5;34m9,408\u001b[0m │\n",
       "├─────────────────────────────────┼────────────────────────┼───────────────┤\n",
       "│ dropout_11 (\u001b[38;5;33mDropout\u001b[0m)            │ (\u001b[38;5;45mNone\u001b[0m, \u001b[38;5;34m32\u001b[0m)             │             \u001b[38;5;34m0\u001b[0m │\n",
       "├─────────────────────────────────┼────────────────────────┼───────────────┤\n",
       "│ dense_6 (\u001b[38;5;33mDense\u001b[0m)                 │ (\u001b[38;5;45mNone\u001b[0m, \u001b[38;5;34m1\u001b[0m)              │            \u001b[38;5;34m33\u001b[0m │\n",
       "└─────────────────────────────────┴────────────────────────┴───────────────┘\n"
      ]
     },
     "metadata": {},
     "output_type": "display_data"
    },
    {
     "data": {
      "text/html": [
       "<pre style=\"white-space:pre;overflow-x:auto;line-height:normal;font-family:Menlo,'DejaVu Sans Mono',consolas,'Courier New',monospace\"><span style=\"font-weight: bold\"> Total params: </span><span style=\"color: #00af00; text-decoration-color: #00af00\">103,521</span> (404.38 KB)\n",
       "</pre>\n"
      ],
      "text/plain": [
       "\u001b[1m Total params: \u001b[0m\u001b[38;5;34m103,521\u001b[0m (404.38 KB)\n"
      ]
     },
     "metadata": {},
     "output_type": "display_data"
    },
    {
     "data": {
      "text/html": [
       "<pre style=\"white-space:pre;overflow-x:auto;line-height:normal;font-family:Menlo,'DejaVu Sans Mono',consolas,'Courier New',monospace\"><span style=\"font-weight: bold\"> Trainable params: </span><span style=\"color: #00af00; text-decoration-color: #00af00\">103,137</span> (402.88 KB)\n",
       "</pre>\n"
      ],
      "text/plain": [
       "\u001b[1m Trainable params: \u001b[0m\u001b[38;5;34m103,137\u001b[0m (402.88 KB)\n"
      ]
     },
     "metadata": {},
     "output_type": "display_data"
    },
    {
     "data": {
      "text/html": [
       "<pre style=\"white-space:pre;overflow-x:auto;line-height:normal;font-family:Menlo,'DejaVu Sans Mono',consolas,'Courier New',monospace\"><span style=\"font-weight: bold\"> Non-trainable params: </span><span style=\"color: #00af00; text-decoration-color: #00af00\">384</span> (1.50 KB)\n",
       "</pre>\n"
      ],
      "text/plain": [
       "\u001b[1m Non-trainable params: \u001b[0m\u001b[38;5;34m384\u001b[0m (1.50 KB)\n"
      ]
     },
     "metadata": {},
     "output_type": "display_data"
    }
   ],
   "source": [
    "import numpy as np\n",
    "import pandas as pd\n",
    "import json\n",
    "import matplotlib.pyplot as plt\n",
    "from sklearn.model_selection import train_test_split\n",
    "from sklearn.preprocessing import StandardScaler\n",
    "from sklearn.metrics import mean_absolute_error, mean_squared_error\n",
    "import tensorflow as tf\n",
    "from tensorflow.keras.models import Sequential\n",
    "from tensorflow.keras.layers import GRU, Dense, Dropout, BatchNormalization\n",
    "from tensorflow.keras.regularizers import l2\n",
    "from tensorflow.keras.callbacks import EarlyStopping\n",
    "\n",
    "\n",
    "X_train_gru = X_train_scaled.reshape(X_train_scaled.shape[0], 1, X_train_scaled.shape[1])\n",
    "X_valid_gru = X_valid_scaled.reshape(X_valid_scaled.shape[0], 1, X_valid_scaled.shape[1])\n",
    "\n",
    "model_gru = Sequential([\n",
    "    GRU(128, activation='relu', return_sequences=True, kernel_regularizer=l2(0.001), input_shape=(X_train_gru.shape[1], X_train_gru.shape[2])),\n",
    "    Dropout(0.3),\n",
    "    BatchNormalization(),\n",
    "    GRU(64, activation='relu', return_sequences=True, kernel_regularizer=l2(0.001)),\n",
    "    Dropout(0.2),\n",
    "    BatchNormalization(),\n",
    "    GRU(32, activation='relu', kernel_regularizer=l2(0.001)),\n",
    "    Dropout(0.1),\n",
    "    Dense(1)\n",
    "])\n",
    "\n",
    "model_gru.summary()\n",
    "\n"
   ]
  },
  {
   "cell_type": "code",
   "execution_count": 45,
   "id": "124b42d0-39ea-4897-920d-13fa1e11148a",
   "metadata": {},
   "outputs": [
    {
     "name": "stdout",
     "output_type": "stream",
     "text": [
      "Epoch 1/50\n",
      "\u001b[1m1730/1730\u001b[0m \u001b[32m━━━━━━━━━━━━━━━━━━━━\u001b[0m\u001b[37m\u001b[0m \u001b[1m13s\u001b[0m 5ms/step - loss: 1.1446 - mae: 0.2777 - val_loss: 0.9085 - val_mae: 0.2380\n",
      "Epoch 2/50\n",
      "\u001b[1m1730/1730\u001b[0m \u001b[32m━━━━━━━━━━━━━━━━━━━━\u001b[0m\u001b[37m\u001b[0m \u001b[1m8s\u001b[0m 5ms/step - loss: 1.1023 - mae: 0.2438 - val_loss: 0.8742 - val_mae: 0.2302\n",
      "Epoch 3/50\n",
      "\u001b[1m1730/1730\u001b[0m \u001b[32m━━━━━━━━━━━━━━━━━━━━\u001b[0m\u001b[37m\u001b[0m \u001b[1m9s\u001b[0m 5ms/step - loss: 1.0287 - mae: 0.2396 - val_loss: 0.8637 - val_mae: 0.2404\n",
      "Epoch 4/50\n",
      "\u001b[1m1730/1730\u001b[0m \u001b[32m━━━━━━━━━━━━━━━━━━━━\u001b[0m\u001b[37m\u001b[0m \u001b[1m9s\u001b[0m 5ms/step - loss: 1.0878 - mae: 0.2435 - val_loss: 0.8599 - val_mae: 0.2309\n",
      "Epoch 5/50\n",
      "\u001b[1m1730/1730\u001b[0m \u001b[32m━━━━━━━━━━━━━━━━━━━━\u001b[0m\u001b[37m\u001b[0m \u001b[1m9s\u001b[0m 5ms/step - loss: 0.8662 - mae: 0.2349 - val_loss: 0.8597 - val_mae: 0.2300\n",
      "Epoch 6/50\n",
      "\u001b[1m1730/1730\u001b[0m \u001b[32m━━━━━━━━━━━━━━━━━━━━\u001b[0m\u001b[37m\u001b[0m \u001b[1m9s\u001b[0m 5ms/step - loss: 0.9314 - mae: 0.2362 - val_loss: 0.8593 - val_mae: 0.2348\n",
      "Epoch 7/50\n",
      "\u001b[1m1730/1730\u001b[0m \u001b[32m━━━━━━━━━━━━━━━━━━━━\u001b[0m\u001b[37m\u001b[0m \u001b[1m9s\u001b[0m 5ms/step - loss: 0.8835 - mae: 0.2351 - val_loss: 0.8588 - val_mae: 0.2349\n",
      "Epoch 8/50\n",
      "\u001b[1m1730/1730\u001b[0m \u001b[32m━━━━━━━━━━━━━━━━━━━━\u001b[0m\u001b[37m\u001b[0m \u001b[1m9s\u001b[0m 5ms/step - loss: 0.9986 - mae: 0.2376 - val_loss: 0.8585 - val_mae: 0.2389\n",
      "Epoch 9/50\n",
      "\u001b[1m1730/1730\u001b[0m \u001b[32m━━━━━━━━━━━━━━━━━━━━\u001b[0m\u001b[37m\u001b[0m \u001b[1m9s\u001b[0m 5ms/step - loss: 1.0111 - mae: 0.2401 - val_loss: 0.8584 - val_mae: 0.2291\n",
      "Epoch 10/50\n",
      "\u001b[1m1730/1730\u001b[0m \u001b[32m━━━━━━━━━━━━━━━━━━━━\u001b[0m\u001b[37m\u001b[0m \u001b[1m9s\u001b[0m 5ms/step - loss: 0.9459 - mae: 0.2373 - val_loss: 0.8582 - val_mae: 0.2348\n",
      "Epoch 11/50\n",
      "\u001b[1m1730/1730\u001b[0m \u001b[32m━━━━━━━━━━━━━━━━━━━━\u001b[0m\u001b[37m\u001b[0m \u001b[1m10s\u001b[0m 6ms/step - loss: 1.0077 - mae: 0.2399 - val_loss: 0.8583 - val_mae: 0.2332\n",
      "Epoch 12/50\n",
      "\u001b[1m1730/1730\u001b[0m \u001b[32m━━━━━━━━━━━━━━━━━━━━\u001b[0m\u001b[37m\u001b[0m \u001b[1m10s\u001b[0m 6ms/step - loss: 1.0464 - mae: 0.2410 - val_loss: 0.8578 - val_mae: 0.2307\n",
      "Epoch 13/50\n",
      "\u001b[1m1730/1730\u001b[0m \u001b[32m━━━━━━━━━━━━━━━━━━━━\u001b[0m\u001b[37m\u001b[0m \u001b[1m9s\u001b[0m 5ms/step - loss: 0.9062 - mae: 0.2348 - val_loss: 0.8579 - val_mae: 0.2297\n",
      "Epoch 14/50\n",
      "\u001b[1m1730/1730\u001b[0m \u001b[32m━━━━━━━━━━━━━━━━━━━━\u001b[0m\u001b[37m\u001b[0m \u001b[1m9s\u001b[0m 5ms/step - loss: 1.0429 - mae: 0.2401 - val_loss: 0.8579 - val_mae: 0.2317\n",
      "Epoch 15/50\n",
      "\u001b[1m1730/1730\u001b[0m \u001b[32m━━━━━━━━━━━━━━━━━━━━\u001b[0m\u001b[37m\u001b[0m \u001b[1m9s\u001b[0m 5ms/step - loss: 1.0145 - mae: 0.2397 - val_loss: 0.8577 - val_mae: 0.2324\n",
      "Epoch 16/50\n",
      "\u001b[1m1730/1730\u001b[0m \u001b[32m━━━━━━━━━━━━━━━━━━━━\u001b[0m\u001b[37m\u001b[0m \u001b[1m9s\u001b[0m 5ms/step - loss: 0.9567 - mae: 0.2378 - val_loss: 0.8584 - val_mae: 0.2340\n",
      "Epoch 17/50\n",
      "\u001b[1m1730/1730\u001b[0m \u001b[32m━━━━━━━━━━━━━━━━━━━━\u001b[0m\u001b[37m\u001b[0m \u001b[1m10s\u001b[0m 6ms/step - loss: 0.9698 - mae: 0.2382 - val_loss: 0.8576 - val_mae: 0.2331\n",
      "Epoch 18/50\n",
      "\u001b[1m1730/1730\u001b[0m \u001b[32m━━━━━━━━━━━━━━━━━━━━\u001b[0m\u001b[37m\u001b[0m \u001b[1m10s\u001b[0m 6ms/step - loss: 0.9745 - mae: 0.2377 - val_loss: 0.8577 - val_mae: 0.2295\n",
      "Epoch 19/50\n",
      "\u001b[1m1730/1730\u001b[0m \u001b[32m━━━━━━━━━━━━━━━━━━━━\u001b[0m\u001b[37m\u001b[0m \u001b[1m10s\u001b[0m 6ms/step - loss: 1.0715 - mae: 0.2405 - val_loss: 0.8574 - val_mae: 0.2311\n",
      "Epoch 20/50\n",
      "\u001b[1m1730/1730\u001b[0m \u001b[32m━━━━━━━━━━━━━━━━━━━━\u001b[0m\u001b[37m\u001b[0m \u001b[1m9s\u001b[0m 5ms/step - loss: 1.0479 - mae: 0.2394 - val_loss: 0.8575 - val_mae: 0.2286\n",
      "Epoch 21/50\n",
      "\u001b[1m1730/1730\u001b[0m \u001b[32m━━━━━━━━━━━━━━━━━━━━\u001b[0m\u001b[37m\u001b[0m \u001b[1m10s\u001b[0m 6ms/step - loss: 0.8784 - mae: 0.2344 - val_loss: 0.8577 - val_mae: 0.2319\n",
      "Epoch 22/50\n",
      "\u001b[1m1730/1730\u001b[0m \u001b[32m━━━━━━━━━━━━━━━━━━━━\u001b[0m\u001b[37m\u001b[0m \u001b[1m10s\u001b[0m 6ms/step - loss: 1.0787 - mae: 0.2418 - val_loss: 0.8578 - val_mae: 0.2325\n",
      "Epoch 23/50\n",
      "\u001b[1m1730/1730\u001b[0m \u001b[32m━━━━━━━━━━━━━━━━━━━━\u001b[0m\u001b[37m\u001b[0m \u001b[1m9s\u001b[0m 5ms/step - loss: 1.0600 - mae: 0.2411 - val_loss: 0.8580 - val_mae: 0.2363\n",
      "Epoch 24/50\n",
      "\u001b[1m1730/1730\u001b[0m \u001b[32m━━━━━━━━━━━━━━━━━━━━\u001b[0m\u001b[37m\u001b[0m \u001b[1m9s\u001b[0m 5ms/step - loss: 1.0641 - mae: 0.2411 - val_loss: 0.8576 - val_mae: 0.2304\n"
     ]
    },
    {
     "data": {
      "image/png": "[encoded data removed]",
      "text/plain": [
       "<Figure size 1000x600 with 1 Axes>"
      ]
     },
     "metadata": {},
     "output_type": "display_data"
    },
    {
     "name": "stdout",
     "output_type": "stream",
     "text": [
      "\u001b[1m3459/3459\u001b[0m \u001b[32m━━━━━━━━━━━━━━━━━━━━\u001b[0m\u001b[37m\u001b[0m \u001b[1m4s\u001b[0m 1ms/step\n",
      "Improved GRU Results:\n",
      "- MAE: 0.3746\n",
      "- MSE: 2.2487\n",
      "- RMSE: 1.4996\n"
     ]
    }
   ],
   "source": [
    "optimizer = tf.keras.optimizers.Adam(learning_rate=0.0005)\n",
    "\n",
    "early_stop = EarlyStopping(monitor='val_loss', patience=5, restore_best_weights=True)\n",
    "\n",
    "model_gru.compile(optimizer=optimizer, loss='mse', metrics=['mae'])\n",
    "\n",
    "history = model_gru.fit(\n",
    "    X_train_gru, y_train_scaled,\n",
    "    epochs=50,\n",
    "    batch_size=256,\n",
    "    verbose=1,\n",
    "    validation_data=(X_valid_gru, y_valid_scaled),\n",
    "    callbacks=[early_stop]\n",
    ")\n",
    "\n",
    "plt.figure(figsize=(10, 6))\n",
    "plt.plot(history.history['loss'])\n",
    "plt.plot(history.history['val_loss'])\n",
    "plt.title('GRU Training Progress with Regularization')\n",
    "plt.xlabel('Epochs')\n",
    "plt.ylabel('MSE Loss')\n",
    "plt.legend(['Train Loss', 'Validation Loss'])\n",
    "plt.grid(True)\n",
    "plt.show()\n",
    "\n",
    "gru_preds_scaled = model_gru.predict(X_valid_gru).flatten()\n",
    "gru_preds_original = scaler_y.inverse_transform(gru_preds_scaled.reshape(-1, 1)).flatten()\n",
    "y_valid_original = scaler_y.inverse_transform(y_valid_scaled.reshape(-1, 1)).flatten()\n",
    "\n",
    "mae = mean_absolute_error(y_valid_original, gru_preds_original)\n",
    "mse = mean_squared_error(y_valid_original, gru_preds_original)\n",
    "rmse = np.sqrt(mse)\n",
    "\n",
    "print(f\"Improved GRU Results:\")\n",
    "print(f\"- MAE: {mae:.4f}\")\n",
    "print(f\"- MSE: {mse:.4f}\")\n",
    "print(f\"- RMSE: {rmse:.4f}\")\n",
    "\n",
    "gru_metrics = {\n",
    "    \"Model\": \"GRU_Improved\",\n",
    "    \"MAE\": float(mae),\n",
    "    \"MSE\": float(mse),\n",
    "    \"RMSE\": float(rmse)\n",
    "}\n",
    "\n",
    "with open(\"gru_improved_metrics.json\", \"w\") as f:\n",
    "    json.dump(gru_metrics, f)\n"
   ]
  },
  {
   "cell_type": "code",
   "execution_count": null,
   "id": "e80baa30-26b0-4ea4-9e51-ae99025385b8",
   "metadata": {},
   "outputs": [],
   "source": []
  },
  {
   "cell_type": "code",
   "execution_count": null,
   "id": "e03a8cd2-2c8c-4c7a-8d32-b2dd3956e3b3",
   "metadata": {},
   "outputs": [],
   "source": []
  },
  {
   "cell_type": "code",
   "execution_count": null,
   "id": "4b866bf7-02bf-4e84-bdad-32879414958b",
   "metadata": {},
   "outputs": [],
   "source": []
  },
  {
   "cell_type": "code",
   "execution_count": 122,
   "id": "5ecc82d7-3e82-4635-b627-6d8d3a2535e9",
   "metadata": {},
   "outputs": [
    {
     "data": {
      "image/png": "[encoded data removed]",
      "text/plain": [
       "<Figure size 1200x600 with 1 Axes>"
      ]
     },
     "metadata": {},
     "output_type": "display_data"
    },
    {
     "name": "stdout",
     "output_type": "stream",
     "text": [
      "\n",
      "Model Performance Metrics:\n",
      "\n",
      "            Model    MAE    MSE   RMSE\n",
      "              GRU 0.3834 2.2693 1.5031\n",
      "              RNN 0.3661 2.2443 1.4981\n",
      "              ANN 0.3612 2.2546 1.5015\n",
      "Linear Regression 0.3813 2.2459 1.5020\n",
      "    Random Forest 0.4072 2.3516 1.5302\n",
      "         CatBoost 0.3729 2.2137 1.4879\n"
     ]
    }
   ],
   "source": [
    "import numpy as np\n",
    "import pandas as pd\n",
    "import matplotlib.pyplot as plt\n",
    "import seaborn as sns\n",
    "\n",
    "results = [\n",
    "    {\"Model\": \"GRU\", \"MAE\": 0.3834, \"MSE\": 2.2693, \"RMSE\": 1.5031},\n",
    "    {\"Model\": \"RNN\", \"MAE\": 0.3661, \"MSE\": 2.2443, \"RMSE\": 1.4981},\n",
    "    {\"Model\": \"ANN\", \"MAE\": 0.3612, \"MSE\": 2.2546, \"RMSE\": 1.5015},\n",
    "    {\"Model\": \"Linear Regression\", \"MAE\": 0.3813, \"MSE\": 2.2459, \"RMSE\": 1.5020},\n",
    "    {\"Model\": \"Random Forest\", \"MAE\": 0.4072, \"MSE\": 2.3516, \"RMSE\": 1.5302},\n",
    "    {\"Model\": \"CatBoost\", \"MAE\": 0.3729, \"MSE\": 2.2137, \"RMSE\": 1.4879},\n",
    "]\n",
    "\n",
    "metrics_df = pd.DataFrame(results)\n",
    "min_loss = metrics_df[[\"MAE\", \"MSE\", \"RMSE\"]].min().min()\n",
    "\n",
    "plt.figure(figsize=(12, 6))\n",
    "ax = sns.barplot(data=metrics_df.melt(id_vars=\"Model\", var_name=\"Metric\", value_name=\"Score\"),\n",
    "                 x=\"Model\", y=\"Score\", hue=\"Metric\", palette=\"Set2\")\n",
    "\n",
    "for p in ax.patches:\n",
    "    ax.text(p.get_x() + p.get_width() / 2, \n",
    "            p.get_height() + 0.02, \n",
    "            f'{p.get_height():.4f}', \n",
    "            ha='center', va='bottom', fontsize=10, fontweight='bold', color='black')\n",
    "\n",
    "plt.axhline(y=min_loss, color='red', linestyle='--', linewidth=2, label=f\"Min Loss: {min_loss:.4f}\")\n",
    "\n",
    "plt.title(\"Model Performance Comparison\", fontsize=14, fontweight='bold')\n",
    "plt.xlabel(\"Model\", fontsize=12)\n",
    "plt.ylabel(\"Score\", fontsize=12)\n",
    "plt.legend(title=\"Metric\")\n",
    "plt.grid(axis='y', linestyle='--', alpha=0.7)\n",
    "\n",
    "plt.xticks(rotation=15)\n",
    "plt.show()\n",
    "\n",
    "metrics_df.to_csv(\"model_metrics.csv\", index=False)\n",
    "\n",
    "print(\"\\nModel Performance Metrics:\\n\")\n",
    "print(metrics_df.to_string(index=False))\n"
   ]
  }
 ],
 "metadata": {
  "kernelspec": {
   "display_name": "Python 3 (ipykernel)",
   "language": "python",
   "name": "python3"
  },
  "language_info": {
   "codemirror_mode": {
    "name": "ipython",
    "version": 3
   },
   "file_extension": ".py",
   "mimetype": "text/x-python",
   "name": "python",
   "nbconvert_exporter": "python",
   "pygments_lexer": "ipython3",
   "version": "3.12.4"
  }
 },
 "nbformat": 4,
 "nbformat_minor": 5
}
